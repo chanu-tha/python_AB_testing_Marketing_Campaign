{
  "nbformat": 4,
  "nbformat_minor": 0,
  "metadata": {
    "colab": {
      "provenance": [],
      "mount_file_id": "12vvaznyLhBq6XdLtcc-oTiGbggKZFz8H",
      "authorship_tag": "ABX9TyPqiPlLFelMlIvAjN81ejYk",
      "include_colab_link": true
    },
    "kernelspec": {
      "name": "python3",
      "display_name": "Python 3"
    },
    "language_info": {
      "name": "python"
    }
  },
  "cells": [
    {
      "cell_type": "markdown",
      "metadata": {
        "id": "view-in-github",
        "colab_type": "text"
      },
      "source": [
        "<a href=\"https://colab.research.google.com/github/chanu-tha/python_AB_testing_Marketing_Campaign/blob/main/Marketing_AB_Test.ipynb\" target=\"_parent\"><img src=\"https://colab.research.google.com/assets/colab-badge.svg\" alt=\"Open In Colab\"/></a>"
      ]
    },
    {
      "cell_type": "markdown",
      "source": [
        "## Problem statement\n",
        "\n",
        "Zenith Marketing Solutions recently conducted an A/B test to evaluate the effectiveness of a new advertising campaign compared to a public service announcement (PSA) approach.  The control group was exposed to a PSA, while the experimental group was exposed to the new ads. The test has concluded, and the company now needs to determine whether the advertising campaign was successful and, if so, quantify the impact of the ads compared to the PSA.\n",
        "\n",
        "As a data analyst, the task is to analyze the results of the A/B test and present findings to the Head of Strategy.  The analysis should answer the following key questions:\n",
        "\n",
        "1. Was the advertising campaign successful?\n",
        "\n",
        "2. If the campaign was successful, how much of that success can be attributed to the ads?\n",
        "\n",
        "3. What other relevant insights can be gleaned from the data to support decision-making?\n"
      ],
      "metadata": {
        "id": "Vuc5g_WWTXRB"
      }
    },
    {
      "cell_type": "markdown",
      "source": [
        "### Interpret the data\n",
        "\n",
        "This A/B test analyzes the effectiveness of a new marketing campaign.  The primary metric for success is the conversion rate, defined as the users who make a purchase.  I will compare the conversion rates of the control group (exposed to the existing campaign or no campaign) and the treatment group (exposed to the new campaign) to determine if the new campaign yields a statistically significant improvement.\n",
        "\n",
        "The hypothesis for this test:  \n",
        "H0 : There is no statiscally significannt difference in conversion rate between control and experimental group.  \n",
        "Ha : There is a statistically significant difference in conversion rates between the control group and the experimental group.\n",
        "\n",
        "Significance level (alpha) : 5%\n",
        "\n",
        "Data dictionary:\n",
        "\n",
        "- Index: Row index\n",
        "- user id: User ID (unique)\n",
        "- test group: If \"ad\" the person saw the advertisement, if \"psa\" they only saw the public service announcement\n",
        "- converted: If a person bought the product then True, else is False\n",
        "- total ads: Amount of ads seen by person\n",
        "- most ads day: Day that the person saw the biggest amount of ads\n",
        "- most ads hour: Hour of day that the person saw the biggest amount of ads   "
      ],
      "metadata": {
        "id": "dFTl76k5eXG4"
      }
    },
    {
      "cell_type": "code",
      "source": [],
      "metadata": {
        "id": "m8WOh4ARh9RD"
      },
      "execution_count": null,
      "outputs": []
    },
    {
      "cell_type": "code",
      "execution_count": 1,
      "metadata": {
        "id": "XtYYVGDuOpZY"
      },
      "outputs": [],
      "source": [
        "## import library\n",
        "\n",
        "import pandas as pd\n",
        "import numpy as np\n",
        "import matplotlib.pyplot as plt\n",
        "import seaborn as sns\n",
        "from scipy.stats import chi2_contingency\n",
        "from scipy.stats import shapiro, levene, ttest_ind, mannwhitneyu\n",
        "from scipy.optimize import minimize\n",
        "\n",
        "from statsmodels.stats.proportion import proportions_ztest\n",
        "from statsmodels.stats.proportion import confint_proportions_2indep\n",
        "\n",
        "\n",
        "from sklearn.model_selection import train_test_split\n",
        "from sklearn.linear_model import LogisticRegression\n",
        "from sklearn.metrics import accuracy_score, confusion_matrix, roc_auc_score, roc_curve\n",
        "\n",
        "\n",
        "import warnings\n",
        "warnings.filterwarnings('ignore')"
      ]
    },
    {
      "cell_type": "code",
      "source": [
        "## import data into nb\n",
        "from google.colab import drive\n",
        "\n",
        "drive.mount('/content/drive')\n",
        "\n",
        "file_path = '/content/drive/MyDrive/Colab_dataset/Marketing_AB_Test/marketing_AB.csv'\n",
        "\n",
        "ab_raw = pd.read_csv(file_path)\n",
        "\n"
      ],
      "metadata": {
        "colab": {
          "base_uri": "https://localhost:8080/"
        },
        "id": "b2kg4cg3O-sO",
        "outputId": "b09a0a10-8568-4555-d4dd-1f687173af54"
      },
      "execution_count": 2,
      "outputs": [
        {
          "output_type": "stream",
          "name": "stdout",
          "text": [
            "Mounted at /content/drive\n"
          ]
        }
      ]
    },
    {
      "cell_type": "markdown",
      "source": [
        "### EDA\n"
      ],
      "metadata": {
        "id": "JLvtXzRQeeVH"
      }
    },
    {
      "cell_type": "code",
      "source": [
        "# print first5 rows\n",
        "\n",
        "ab_raw.head()"
      ],
      "metadata": {
        "colab": {
          "base_uri": "https://localhost:8080/",
          "height": 206
        },
        "id": "4T_UqB1vO-pd",
        "outputId": "0eaed70a-6df2-40f2-cb5e-329d99d971c2"
      },
      "execution_count": 3,
      "outputs": [
        {
          "output_type": "execute_result",
          "data": {
            "text/plain": [
              "   Unnamed: 0  user id test group  converted  total ads most ads day  \\\n",
              "0           0  1069124         ad      False        130       Monday   \n",
              "1           1  1119715         ad      False         93      Tuesday   \n",
              "2           2  1144181         ad      False         21      Tuesday   \n",
              "3           3  1435133         ad      False        355      Tuesday   \n",
              "4           4  1015700         ad      False        276       Friday   \n",
              "\n",
              "   most ads hour  \n",
              "0             20  \n",
              "1             22  \n",
              "2             18  \n",
              "3             10  \n",
              "4             14  "
            ],
            "text/html": [
              "\n",
              "  <div id=\"df-e106171c-7100-4e4a-8837-64d194e884bb\" class=\"colab-df-container\">\n",
              "    <div>\n",
              "<style scoped>\n",
              "    .dataframe tbody tr th:only-of-type {\n",
              "        vertical-align: middle;\n",
              "    }\n",
              "\n",
              "    .dataframe tbody tr th {\n",
              "        vertical-align: top;\n",
              "    }\n",
              "\n",
              "    .dataframe thead th {\n",
              "        text-align: right;\n",
              "    }\n",
              "</style>\n",
              "<table border=\"1\" class=\"dataframe\">\n",
              "  <thead>\n",
              "    <tr style=\"text-align: right;\">\n",
              "      <th></th>\n",
              "      <th>Unnamed: 0</th>\n",
              "      <th>user id</th>\n",
              "      <th>test group</th>\n",
              "      <th>converted</th>\n",
              "      <th>total ads</th>\n",
              "      <th>most ads day</th>\n",
              "      <th>most ads hour</th>\n",
              "    </tr>\n",
              "  </thead>\n",
              "  <tbody>\n",
              "    <tr>\n",
              "      <th>0</th>\n",
              "      <td>0</td>\n",
              "      <td>1069124</td>\n",
              "      <td>ad</td>\n",
              "      <td>False</td>\n",
              "      <td>130</td>\n",
              "      <td>Monday</td>\n",
              "      <td>20</td>\n",
              "    </tr>\n",
              "    <tr>\n",
              "      <th>1</th>\n",
              "      <td>1</td>\n",
              "      <td>1119715</td>\n",
              "      <td>ad</td>\n",
              "      <td>False</td>\n",
              "      <td>93</td>\n",
              "      <td>Tuesday</td>\n",
              "      <td>22</td>\n",
              "    </tr>\n",
              "    <tr>\n",
              "      <th>2</th>\n",
              "      <td>2</td>\n",
              "      <td>1144181</td>\n",
              "      <td>ad</td>\n",
              "      <td>False</td>\n",
              "      <td>21</td>\n",
              "      <td>Tuesday</td>\n",
              "      <td>18</td>\n",
              "    </tr>\n",
              "    <tr>\n",
              "      <th>3</th>\n",
              "      <td>3</td>\n",
              "      <td>1435133</td>\n",
              "      <td>ad</td>\n",
              "      <td>False</td>\n",
              "      <td>355</td>\n",
              "      <td>Tuesday</td>\n",
              "      <td>10</td>\n",
              "    </tr>\n",
              "    <tr>\n",
              "      <th>4</th>\n",
              "      <td>4</td>\n",
              "      <td>1015700</td>\n",
              "      <td>ad</td>\n",
              "      <td>False</td>\n",
              "      <td>276</td>\n",
              "      <td>Friday</td>\n",
              "      <td>14</td>\n",
              "    </tr>\n",
              "  </tbody>\n",
              "</table>\n",
              "</div>\n",
              "    <div class=\"colab-df-buttons\">\n",
              "\n",
              "  <div class=\"colab-df-container\">\n",
              "    <button class=\"colab-df-convert\" onclick=\"convertToInteractive('df-e106171c-7100-4e4a-8837-64d194e884bb')\"\n",
              "            title=\"Convert this dataframe to an interactive table.\"\n",
              "            style=\"display:none;\">\n",
              "\n",
              "  <svg xmlns=\"http://www.w3.org/2000/svg\" height=\"24px\" viewBox=\"0 -960 960 960\">\n",
              "    <path d=\"M120-120v-720h720v720H120Zm60-500h600v-160H180v160Zm220 220h160v-160H400v160Zm0 220h160v-160H400v160ZM180-400h160v-160H180v160Zm440 0h160v-160H620v160ZM180-180h160v-160H180v160Zm440 0h160v-160H620v160Z\"/>\n",
              "  </svg>\n",
              "    </button>\n",
              "\n",
              "  <style>\n",
              "    .colab-df-container {\n",
              "      display:flex;\n",
              "      gap: 12px;\n",
              "    }\n",
              "\n",
              "    .colab-df-convert {\n",
              "      background-color: #E8F0FE;\n",
              "      border: none;\n",
              "      border-radius: 50%;\n",
              "      cursor: pointer;\n",
              "      display: none;\n",
              "      fill: #1967D2;\n",
              "      height: 32px;\n",
              "      padding: 0 0 0 0;\n",
              "      width: 32px;\n",
              "    }\n",
              "\n",
              "    .colab-df-convert:hover {\n",
              "      background-color: #E2EBFA;\n",
              "      box-shadow: 0px 1px 2px rgba(60, 64, 67, 0.3), 0px 1px 3px 1px rgba(60, 64, 67, 0.15);\n",
              "      fill: #174EA6;\n",
              "    }\n",
              "\n",
              "    .colab-df-buttons div {\n",
              "      margin-bottom: 4px;\n",
              "    }\n",
              "\n",
              "    [theme=dark] .colab-df-convert {\n",
              "      background-color: #3B4455;\n",
              "      fill: #D2E3FC;\n",
              "    }\n",
              "\n",
              "    [theme=dark] .colab-df-convert:hover {\n",
              "      background-color: #434B5C;\n",
              "      box-shadow: 0px 1px 3px 1px rgba(0, 0, 0, 0.15);\n",
              "      filter: drop-shadow(0px 1px 2px rgba(0, 0, 0, 0.3));\n",
              "      fill: #FFFFFF;\n",
              "    }\n",
              "  </style>\n",
              "\n",
              "    <script>\n",
              "      const buttonEl =\n",
              "        document.querySelector('#df-e106171c-7100-4e4a-8837-64d194e884bb button.colab-df-convert');\n",
              "      buttonEl.style.display =\n",
              "        google.colab.kernel.accessAllowed ? 'block' : 'none';\n",
              "\n",
              "      async function convertToInteractive(key) {\n",
              "        const element = document.querySelector('#df-e106171c-7100-4e4a-8837-64d194e884bb');\n",
              "        const dataTable =\n",
              "          await google.colab.kernel.invokeFunction('convertToInteractive',\n",
              "                                                    [key], {});\n",
              "        if (!dataTable) return;\n",
              "\n",
              "        const docLinkHtml = 'Like what you see? Visit the ' +\n",
              "          '<a target=\"_blank\" href=https://colab.research.google.com/notebooks/data_table.ipynb>data table notebook</a>'\n",
              "          + ' to learn more about interactive tables.';\n",
              "        element.innerHTML = '';\n",
              "        dataTable['output_type'] = 'display_data';\n",
              "        await google.colab.output.renderOutput(dataTable, element);\n",
              "        const docLink = document.createElement('div');\n",
              "        docLink.innerHTML = docLinkHtml;\n",
              "        element.appendChild(docLink);\n",
              "      }\n",
              "    </script>\n",
              "  </div>\n",
              "\n",
              "\n",
              "<div id=\"df-3806de82-8c2f-434b-84f6-5ca9556316cb\">\n",
              "  <button class=\"colab-df-quickchart\" onclick=\"quickchart('df-3806de82-8c2f-434b-84f6-5ca9556316cb')\"\n",
              "            title=\"Suggest charts\"\n",
              "            style=\"display:none;\">\n",
              "\n",
              "<svg xmlns=\"http://www.w3.org/2000/svg\" height=\"24px\"viewBox=\"0 0 24 24\"\n",
              "     width=\"24px\">\n",
              "    <g>\n",
              "        <path d=\"M19 3H5c-1.1 0-2 .9-2 2v14c0 1.1.9 2 2 2h14c1.1 0 2-.9 2-2V5c0-1.1-.9-2-2-2zM9 17H7v-7h2v7zm4 0h-2V7h2v10zm4 0h-2v-4h2v4z\"/>\n",
              "    </g>\n",
              "</svg>\n",
              "  </button>\n",
              "\n",
              "<style>\n",
              "  .colab-df-quickchart {\n",
              "      --bg-color: #E8F0FE;\n",
              "      --fill-color: #1967D2;\n",
              "      --hover-bg-color: #E2EBFA;\n",
              "      --hover-fill-color: #174EA6;\n",
              "      --disabled-fill-color: #AAA;\n",
              "      --disabled-bg-color: #DDD;\n",
              "  }\n",
              "\n",
              "  [theme=dark] .colab-df-quickchart {\n",
              "      --bg-color: #3B4455;\n",
              "      --fill-color: #D2E3FC;\n",
              "      --hover-bg-color: #434B5C;\n",
              "      --hover-fill-color: #FFFFFF;\n",
              "      --disabled-bg-color: #3B4455;\n",
              "      --disabled-fill-color: #666;\n",
              "  }\n",
              "\n",
              "  .colab-df-quickchart {\n",
              "    background-color: var(--bg-color);\n",
              "    border: none;\n",
              "    border-radius: 50%;\n",
              "    cursor: pointer;\n",
              "    display: none;\n",
              "    fill: var(--fill-color);\n",
              "    height: 32px;\n",
              "    padding: 0;\n",
              "    width: 32px;\n",
              "  }\n",
              "\n",
              "  .colab-df-quickchart:hover {\n",
              "    background-color: var(--hover-bg-color);\n",
              "    box-shadow: 0 1px 2px rgba(60, 64, 67, 0.3), 0 1px 3px 1px rgba(60, 64, 67, 0.15);\n",
              "    fill: var(--button-hover-fill-color);\n",
              "  }\n",
              "\n",
              "  .colab-df-quickchart-complete:disabled,\n",
              "  .colab-df-quickchart-complete:disabled:hover {\n",
              "    background-color: var(--disabled-bg-color);\n",
              "    fill: var(--disabled-fill-color);\n",
              "    box-shadow: none;\n",
              "  }\n",
              "\n",
              "  .colab-df-spinner {\n",
              "    border: 2px solid var(--fill-color);\n",
              "    border-color: transparent;\n",
              "    border-bottom-color: var(--fill-color);\n",
              "    animation:\n",
              "      spin 1s steps(1) infinite;\n",
              "  }\n",
              "\n",
              "  @keyframes spin {\n",
              "    0% {\n",
              "      border-color: transparent;\n",
              "      border-bottom-color: var(--fill-color);\n",
              "      border-left-color: var(--fill-color);\n",
              "    }\n",
              "    20% {\n",
              "      border-color: transparent;\n",
              "      border-left-color: var(--fill-color);\n",
              "      border-top-color: var(--fill-color);\n",
              "    }\n",
              "    30% {\n",
              "      border-color: transparent;\n",
              "      border-left-color: var(--fill-color);\n",
              "      border-top-color: var(--fill-color);\n",
              "      border-right-color: var(--fill-color);\n",
              "    }\n",
              "    40% {\n",
              "      border-color: transparent;\n",
              "      border-right-color: var(--fill-color);\n",
              "      border-top-color: var(--fill-color);\n",
              "    }\n",
              "    60% {\n",
              "      border-color: transparent;\n",
              "      border-right-color: var(--fill-color);\n",
              "    }\n",
              "    80% {\n",
              "      border-color: transparent;\n",
              "      border-right-color: var(--fill-color);\n",
              "      border-bottom-color: var(--fill-color);\n",
              "    }\n",
              "    90% {\n",
              "      border-color: transparent;\n",
              "      border-bottom-color: var(--fill-color);\n",
              "    }\n",
              "  }\n",
              "</style>\n",
              "\n",
              "  <script>\n",
              "    async function quickchart(key) {\n",
              "      const quickchartButtonEl =\n",
              "        document.querySelector('#' + key + ' button');\n",
              "      quickchartButtonEl.disabled = true;  // To prevent multiple clicks.\n",
              "      quickchartButtonEl.classList.add('colab-df-spinner');\n",
              "      try {\n",
              "        const charts = await google.colab.kernel.invokeFunction(\n",
              "            'suggestCharts', [key], {});\n",
              "      } catch (error) {\n",
              "        console.error('Error during call to suggestCharts:', error);\n",
              "      }\n",
              "      quickchartButtonEl.classList.remove('colab-df-spinner');\n",
              "      quickchartButtonEl.classList.add('colab-df-quickchart-complete');\n",
              "    }\n",
              "    (() => {\n",
              "      let quickchartButtonEl =\n",
              "        document.querySelector('#df-3806de82-8c2f-434b-84f6-5ca9556316cb button');\n",
              "      quickchartButtonEl.style.display =\n",
              "        google.colab.kernel.accessAllowed ? 'block' : 'none';\n",
              "    })();\n",
              "  </script>\n",
              "</div>\n",
              "\n",
              "    </div>\n",
              "  </div>\n"
            ],
            "application/vnd.google.colaboratory.intrinsic+json": {
              "type": "dataframe",
              "variable_name": "ab_raw"
            }
          },
          "metadata": {},
          "execution_count": 3
        }
      ]
    },
    {
      "cell_type": "code",
      "source": [
        "ab_raw[ab_raw[\"test group\"] == \"psa\"].head()"
      ],
      "metadata": {
        "colab": {
          "base_uri": "https://localhost:8080/",
          "height": 206
        },
        "id": "K0xtXRYM9sbI",
        "outputId": "8e93cf99-d6b1-46bd-f2ee-61a7e616ad12"
      },
      "execution_count": 4,
      "outputs": [
        {
          "output_type": "execute_result",
          "data": {
            "text/plain": [
              "     Unnamed: 0  user id test group  converted  total ads most ads day  \\\n",
              "18           18   900681        psa      False        248     Saturday   \n",
              "38           38   905704        psa      False         27     Thursday   \n",
              "68           68   904595        psa      False         13      Tuesday   \n",
              "140         140   901904        psa      False         32    Wednesday   \n",
              "157         157   902234        psa      False        105      Tuesday   \n",
              "\n",
              "     most ads hour  \n",
              "18              19  \n",
              "38               8  \n",
              "68              19  \n",
              "140             19  \n",
              "157             19  "
            ],
            "text/html": [
              "\n",
              "  <div id=\"df-8a0db7e7-8ace-459a-ad48-429ffb383f68\" class=\"colab-df-container\">\n",
              "    <div>\n",
              "<style scoped>\n",
              "    .dataframe tbody tr th:only-of-type {\n",
              "        vertical-align: middle;\n",
              "    }\n",
              "\n",
              "    .dataframe tbody tr th {\n",
              "        vertical-align: top;\n",
              "    }\n",
              "\n",
              "    .dataframe thead th {\n",
              "        text-align: right;\n",
              "    }\n",
              "</style>\n",
              "<table border=\"1\" class=\"dataframe\">\n",
              "  <thead>\n",
              "    <tr style=\"text-align: right;\">\n",
              "      <th></th>\n",
              "      <th>Unnamed: 0</th>\n",
              "      <th>user id</th>\n",
              "      <th>test group</th>\n",
              "      <th>converted</th>\n",
              "      <th>total ads</th>\n",
              "      <th>most ads day</th>\n",
              "      <th>most ads hour</th>\n",
              "    </tr>\n",
              "  </thead>\n",
              "  <tbody>\n",
              "    <tr>\n",
              "      <th>18</th>\n",
              "      <td>18</td>\n",
              "      <td>900681</td>\n",
              "      <td>psa</td>\n",
              "      <td>False</td>\n",
              "      <td>248</td>\n",
              "      <td>Saturday</td>\n",
              "      <td>19</td>\n",
              "    </tr>\n",
              "    <tr>\n",
              "      <th>38</th>\n",
              "      <td>38</td>\n",
              "      <td>905704</td>\n",
              "      <td>psa</td>\n",
              "      <td>False</td>\n",
              "      <td>27</td>\n",
              "      <td>Thursday</td>\n",
              "      <td>8</td>\n",
              "    </tr>\n",
              "    <tr>\n",
              "      <th>68</th>\n",
              "      <td>68</td>\n",
              "      <td>904595</td>\n",
              "      <td>psa</td>\n",
              "      <td>False</td>\n",
              "      <td>13</td>\n",
              "      <td>Tuesday</td>\n",
              "      <td>19</td>\n",
              "    </tr>\n",
              "    <tr>\n",
              "      <th>140</th>\n",
              "      <td>140</td>\n",
              "      <td>901904</td>\n",
              "      <td>psa</td>\n",
              "      <td>False</td>\n",
              "      <td>32</td>\n",
              "      <td>Wednesday</td>\n",
              "      <td>19</td>\n",
              "    </tr>\n",
              "    <tr>\n",
              "      <th>157</th>\n",
              "      <td>157</td>\n",
              "      <td>902234</td>\n",
              "      <td>psa</td>\n",
              "      <td>False</td>\n",
              "      <td>105</td>\n",
              "      <td>Tuesday</td>\n",
              "      <td>19</td>\n",
              "    </tr>\n",
              "  </tbody>\n",
              "</table>\n",
              "</div>\n",
              "    <div class=\"colab-df-buttons\">\n",
              "\n",
              "  <div class=\"colab-df-container\">\n",
              "    <button class=\"colab-df-convert\" onclick=\"convertToInteractive('df-8a0db7e7-8ace-459a-ad48-429ffb383f68')\"\n",
              "            title=\"Convert this dataframe to an interactive table.\"\n",
              "            style=\"display:none;\">\n",
              "\n",
              "  <svg xmlns=\"http://www.w3.org/2000/svg\" height=\"24px\" viewBox=\"0 -960 960 960\">\n",
              "    <path d=\"M120-120v-720h720v720H120Zm60-500h600v-160H180v160Zm220 220h160v-160H400v160Zm0 220h160v-160H400v160ZM180-400h160v-160H180v160Zm440 0h160v-160H620v160ZM180-180h160v-160H180v160Zm440 0h160v-160H620v160Z\"/>\n",
              "  </svg>\n",
              "    </button>\n",
              "\n",
              "  <style>\n",
              "    .colab-df-container {\n",
              "      display:flex;\n",
              "      gap: 12px;\n",
              "    }\n",
              "\n",
              "    .colab-df-convert {\n",
              "      background-color: #E8F0FE;\n",
              "      border: none;\n",
              "      border-radius: 50%;\n",
              "      cursor: pointer;\n",
              "      display: none;\n",
              "      fill: #1967D2;\n",
              "      height: 32px;\n",
              "      padding: 0 0 0 0;\n",
              "      width: 32px;\n",
              "    }\n",
              "\n",
              "    .colab-df-convert:hover {\n",
              "      background-color: #E2EBFA;\n",
              "      box-shadow: 0px 1px 2px rgba(60, 64, 67, 0.3), 0px 1px 3px 1px rgba(60, 64, 67, 0.15);\n",
              "      fill: #174EA6;\n",
              "    }\n",
              "\n",
              "    .colab-df-buttons div {\n",
              "      margin-bottom: 4px;\n",
              "    }\n",
              "\n",
              "    [theme=dark] .colab-df-convert {\n",
              "      background-color: #3B4455;\n",
              "      fill: #D2E3FC;\n",
              "    }\n",
              "\n",
              "    [theme=dark] .colab-df-convert:hover {\n",
              "      background-color: #434B5C;\n",
              "      box-shadow: 0px 1px 3px 1px rgba(0, 0, 0, 0.15);\n",
              "      filter: drop-shadow(0px 1px 2px rgba(0, 0, 0, 0.3));\n",
              "      fill: #FFFFFF;\n",
              "    }\n",
              "  </style>\n",
              "\n",
              "    <script>\n",
              "      const buttonEl =\n",
              "        document.querySelector('#df-8a0db7e7-8ace-459a-ad48-429ffb383f68 button.colab-df-convert');\n",
              "      buttonEl.style.display =\n",
              "        google.colab.kernel.accessAllowed ? 'block' : 'none';\n",
              "\n",
              "      async function convertToInteractive(key) {\n",
              "        const element = document.querySelector('#df-8a0db7e7-8ace-459a-ad48-429ffb383f68');\n",
              "        const dataTable =\n",
              "          await google.colab.kernel.invokeFunction('convertToInteractive',\n",
              "                                                    [key], {});\n",
              "        if (!dataTable) return;\n",
              "\n",
              "        const docLinkHtml = 'Like what you see? Visit the ' +\n",
              "          '<a target=\"_blank\" href=https://colab.research.google.com/notebooks/data_table.ipynb>data table notebook</a>'\n",
              "          + ' to learn more about interactive tables.';\n",
              "        element.innerHTML = '';\n",
              "        dataTable['output_type'] = 'display_data';\n",
              "        await google.colab.output.renderOutput(dataTable, element);\n",
              "        const docLink = document.createElement('div');\n",
              "        docLink.innerHTML = docLinkHtml;\n",
              "        element.appendChild(docLink);\n",
              "      }\n",
              "    </script>\n",
              "  </div>\n",
              "\n",
              "\n",
              "<div id=\"df-64cccd71-4c73-4de4-8481-b026fc50c5cc\">\n",
              "  <button class=\"colab-df-quickchart\" onclick=\"quickchart('df-64cccd71-4c73-4de4-8481-b026fc50c5cc')\"\n",
              "            title=\"Suggest charts\"\n",
              "            style=\"display:none;\">\n",
              "\n",
              "<svg xmlns=\"http://www.w3.org/2000/svg\" height=\"24px\"viewBox=\"0 0 24 24\"\n",
              "     width=\"24px\">\n",
              "    <g>\n",
              "        <path d=\"M19 3H5c-1.1 0-2 .9-2 2v14c0 1.1.9 2 2 2h14c1.1 0 2-.9 2-2V5c0-1.1-.9-2-2-2zM9 17H7v-7h2v7zm4 0h-2V7h2v10zm4 0h-2v-4h2v4z\"/>\n",
              "    </g>\n",
              "</svg>\n",
              "  </button>\n",
              "\n",
              "<style>\n",
              "  .colab-df-quickchart {\n",
              "      --bg-color: #E8F0FE;\n",
              "      --fill-color: #1967D2;\n",
              "      --hover-bg-color: #E2EBFA;\n",
              "      --hover-fill-color: #174EA6;\n",
              "      --disabled-fill-color: #AAA;\n",
              "      --disabled-bg-color: #DDD;\n",
              "  }\n",
              "\n",
              "  [theme=dark] .colab-df-quickchart {\n",
              "      --bg-color: #3B4455;\n",
              "      --fill-color: #D2E3FC;\n",
              "      --hover-bg-color: #434B5C;\n",
              "      --hover-fill-color: #FFFFFF;\n",
              "      --disabled-bg-color: #3B4455;\n",
              "      --disabled-fill-color: #666;\n",
              "  }\n",
              "\n",
              "  .colab-df-quickchart {\n",
              "    background-color: var(--bg-color);\n",
              "    border: none;\n",
              "    border-radius: 50%;\n",
              "    cursor: pointer;\n",
              "    display: none;\n",
              "    fill: var(--fill-color);\n",
              "    height: 32px;\n",
              "    padding: 0;\n",
              "    width: 32px;\n",
              "  }\n",
              "\n",
              "  .colab-df-quickchart:hover {\n",
              "    background-color: var(--hover-bg-color);\n",
              "    box-shadow: 0 1px 2px rgba(60, 64, 67, 0.3), 0 1px 3px 1px rgba(60, 64, 67, 0.15);\n",
              "    fill: var(--button-hover-fill-color);\n",
              "  }\n",
              "\n",
              "  .colab-df-quickchart-complete:disabled,\n",
              "  .colab-df-quickchart-complete:disabled:hover {\n",
              "    background-color: var(--disabled-bg-color);\n",
              "    fill: var(--disabled-fill-color);\n",
              "    box-shadow: none;\n",
              "  }\n",
              "\n",
              "  .colab-df-spinner {\n",
              "    border: 2px solid var(--fill-color);\n",
              "    border-color: transparent;\n",
              "    border-bottom-color: var(--fill-color);\n",
              "    animation:\n",
              "      spin 1s steps(1) infinite;\n",
              "  }\n",
              "\n",
              "  @keyframes spin {\n",
              "    0% {\n",
              "      border-color: transparent;\n",
              "      border-bottom-color: var(--fill-color);\n",
              "      border-left-color: var(--fill-color);\n",
              "    }\n",
              "    20% {\n",
              "      border-color: transparent;\n",
              "      border-left-color: var(--fill-color);\n",
              "      border-top-color: var(--fill-color);\n",
              "    }\n",
              "    30% {\n",
              "      border-color: transparent;\n",
              "      border-left-color: var(--fill-color);\n",
              "      border-top-color: var(--fill-color);\n",
              "      border-right-color: var(--fill-color);\n",
              "    }\n",
              "    40% {\n",
              "      border-color: transparent;\n",
              "      border-right-color: var(--fill-color);\n",
              "      border-top-color: var(--fill-color);\n",
              "    }\n",
              "    60% {\n",
              "      border-color: transparent;\n",
              "      border-right-color: var(--fill-color);\n",
              "    }\n",
              "    80% {\n",
              "      border-color: transparent;\n",
              "      border-right-color: var(--fill-color);\n",
              "      border-bottom-color: var(--fill-color);\n",
              "    }\n",
              "    90% {\n",
              "      border-color: transparent;\n",
              "      border-bottom-color: var(--fill-color);\n",
              "    }\n",
              "  }\n",
              "</style>\n",
              "\n",
              "  <script>\n",
              "    async function quickchart(key) {\n",
              "      const quickchartButtonEl =\n",
              "        document.querySelector('#' + key + ' button');\n",
              "      quickchartButtonEl.disabled = true;  // To prevent multiple clicks.\n",
              "      quickchartButtonEl.classList.add('colab-df-spinner');\n",
              "      try {\n",
              "        const charts = await google.colab.kernel.invokeFunction(\n",
              "            'suggestCharts', [key], {});\n",
              "      } catch (error) {\n",
              "        console.error('Error during call to suggestCharts:', error);\n",
              "      }\n",
              "      quickchartButtonEl.classList.remove('colab-df-spinner');\n",
              "      quickchartButtonEl.classList.add('colab-df-quickchart-complete');\n",
              "    }\n",
              "    (() => {\n",
              "      let quickchartButtonEl =\n",
              "        document.querySelector('#df-64cccd71-4c73-4de4-8481-b026fc50c5cc button');\n",
              "      quickchartButtonEl.style.display =\n",
              "        google.colab.kernel.accessAllowed ? 'block' : 'none';\n",
              "    })();\n",
              "  </script>\n",
              "</div>\n",
              "\n",
              "    </div>\n",
              "  </div>\n"
            ],
            "application/vnd.google.colaboratory.intrinsic+json": {
              "type": "dataframe",
              "summary": "{\n  \"name\": \"ab_raw[ab_raw[\\\"test group\\\"] == \\\"psa\\\"]\",\n  \"rows\": 5,\n  \"fields\": [\n    {\n      \"column\": \"Unnamed: 0\",\n      \"properties\": {\n        \"dtype\": \"number\",\n        \"std\": 61,\n        \"min\": 18,\n        \"max\": 157,\n        \"num_unique_values\": 5,\n        \"samples\": [\n          38,\n          157,\n          68\n        ],\n        \"semantic_type\": \"\",\n        \"description\": \"\"\n      }\n    },\n    {\n      \"column\": \"user id\",\n      \"properties\": {\n        \"dtype\": \"number\",\n        \"std\": 2062,\n        \"min\": 900681,\n        \"max\": 905704,\n        \"num_unique_values\": 5,\n        \"samples\": [\n          905704,\n          902234,\n          904595\n        ],\n        \"semantic_type\": \"\",\n        \"description\": \"\"\n      }\n    },\n    {\n      \"column\": \"test group\",\n      \"properties\": {\n        \"dtype\": \"category\",\n        \"num_unique_values\": 1,\n        \"samples\": [\n          \"psa\"\n        ],\n        \"semantic_type\": \"\",\n        \"description\": \"\"\n      }\n    },\n    {\n      \"column\": \"converted\",\n      \"properties\": {\n        \"dtype\": \"boolean\",\n        \"num_unique_values\": 1,\n        \"samples\": [\n          false\n        ],\n        \"semantic_type\": \"\",\n        \"description\": \"\"\n      }\n    },\n    {\n      \"column\": \"total ads\",\n      \"properties\": {\n        \"dtype\": \"number\",\n        \"std\": 97,\n        \"min\": 13,\n        \"max\": 248,\n        \"num_unique_values\": 5,\n        \"samples\": [\n          27\n        ],\n        \"semantic_type\": \"\",\n        \"description\": \"\"\n      }\n    },\n    {\n      \"column\": \"most ads day\",\n      \"properties\": {\n        \"dtype\": \"string\",\n        \"num_unique_values\": 4,\n        \"samples\": [\n          \"Thursday\"\n        ],\n        \"semantic_type\": \"\",\n        \"description\": \"\"\n      }\n    },\n    {\n      \"column\": \"most ads hour\",\n      \"properties\": {\n        \"dtype\": \"number\",\n        \"std\": 4,\n        \"min\": 8,\n        \"max\": 19,\n        \"num_unique_values\": 2,\n        \"samples\": [\n          8\n        ],\n        \"semantic_type\": \"\",\n        \"description\": \"\"\n      }\n    }\n  ]\n}"
            }
          },
          "metadata": {},
          "execution_count": 4
        }
      ]
    },
    {
      "cell_type": "code",
      "source": [
        "## check df info\n",
        "\n",
        "ab_raw.info()"
      ],
      "metadata": {
        "colab": {
          "base_uri": "https://localhost:8080/"
        },
        "id": "QMvNVTyEO-dr",
        "outputId": "18060ec7-3424-4fc0-b9ca-e081cb584455"
      },
      "execution_count": 5,
      "outputs": [
        {
          "output_type": "stream",
          "name": "stdout",
          "text": [
            "<class 'pandas.core.frame.DataFrame'>\n",
            "RangeIndex: 588101 entries, 0 to 588100\n",
            "Data columns (total 7 columns):\n",
            " #   Column         Non-Null Count   Dtype \n",
            "---  ------         --------------   ----- \n",
            " 0   Unnamed: 0     588101 non-null  int64 \n",
            " 1   user id        588101 non-null  int64 \n",
            " 2   test group     588101 non-null  object\n",
            " 3   converted      588101 non-null  bool  \n",
            " 4   total ads      588101 non-null  int64 \n",
            " 5   most ads day   588101 non-null  object\n",
            " 6   most ads hour  588101 non-null  int64 \n",
            "dtypes: bool(1), int64(4), object(2)\n",
            "memory usage: 27.5+ MB\n"
          ]
        }
      ]
    },
    {
      "cell_type": "markdown",
      "source": [
        " The dataset contained no missing values."
      ],
      "metadata": {
        "id": "Lo3hV60JjjOu"
      }
    },
    {
      "cell_type": "markdown",
      "source": [],
      "metadata": {
        "id": "S1imbxTvtvJL"
      }
    },
    {
      "cell_type": "markdown",
      "source": [
        "**Checking for duplicate value**"
      ],
      "metadata": {
        "id": "EJgP4L-sjZA1"
      }
    },
    {
      "cell_type": "code",
      "source": [
        "## check duplicate\n",
        "ab_raw.duplicated().sum()"
      ],
      "metadata": {
        "colab": {
          "base_uri": "https://localhost:8080/"
        },
        "id": "yfNg5flSO-Tz",
        "outputId": "00b54b65-a93b-4970-e9f0-2a83dc65d095"
      },
      "execution_count": 6,
      "outputs": [
        {
          "output_type": "execute_result",
          "data": {
            "text/plain": [
              "0"
            ]
          },
          "metadata": {},
          "execution_count": 6
        }
      ]
    },
    {
      "cell_type": "markdown",
      "source": [
        "There is no duplicate value."
      ],
      "metadata": {
        "id": "9ZhQbeAgjdAd"
      }
    },
    {
      "cell_type": "code",
      "source": [
        "## Drop unwanted column\n",
        "\n",
        "ab_raw.drop(\"Unnamed: 0\", axis = 1, inplace = True)\n"
      ],
      "metadata": {
        "id": "EuucNj0kTY0U"
      },
      "execution_count": 7,
      "outputs": []
    },
    {
      "cell_type": "code",
      "source": [
        "ab_raw.columns"
      ],
      "metadata": {
        "colab": {
          "base_uri": "https://localhost:8080/"
        },
        "id": "aWsLzs1eTYwl",
        "outputId": "5c88780f-792d-4928-d308-4b005dc7e214"
      },
      "execution_count": 8,
      "outputs": [
        {
          "output_type": "execute_result",
          "data": {
            "text/plain": [
              "Index(['user id', 'test group', 'converted', 'total ads', 'most ads day',\n",
              "       'most ads hour'],\n",
              "      dtype='object')"
            ]
          },
          "metadata": {},
          "execution_count": 8
        }
      ]
    },
    {
      "cell_type": "code",
      "source": [
        "ab_raw.rename(columns={\n",
        "    'user id': 'user_id',\n",
        "    'test group': 'test_group',\n",
        "    'total ads': 'total_ads',\n",
        "    'most ads day': 'most_ads_day',\n",
        "    'most ads hour': 'most_ads_hour'\n",
        "}, inplace=True)"
      ],
      "metadata": {
        "id": "0Vs-9oOZ8aHe"
      },
      "execution_count": 9,
      "outputs": []
    },
    {
      "cell_type": "markdown",
      "source": [],
      "metadata": {
        "id": "cUY96igh8ZrI"
      }
    },
    {
      "cell_type": "markdown",
      "source": [
        "**Check the consistency of the data**"
      ],
      "metadata": {
        "id": "yZJgRUgejrr5"
      }
    },
    {
      "cell_type": "code",
      "source": [
        "## check the level of categorical variables\n",
        "\n",
        "ab_cat = ab_raw[[\"test_group\", \"converted\", \"most_ads_day\", \"most_ads_hour\" ]]\n",
        "ab_cat.nunique()"
      ],
      "metadata": {
        "colab": {
          "base_uri": "https://localhost:8080/",
          "height": 209
        },
        "id": "1uoEF7CXTYs0",
        "outputId": "6258f9cc-5bb6-439b-e7fe-61b5623a57f3"
      },
      "execution_count": 10,
      "outputs": [
        {
          "output_type": "execute_result",
          "data": {
            "text/plain": [
              "test_group        2\n",
              "converted         2\n",
              "most_ads_day      7\n",
              "most_ads_hour    24\n",
              "dtype: int64"
            ],
            "text/html": [
              "<div>\n",
              "<style scoped>\n",
              "    .dataframe tbody tr th:only-of-type {\n",
              "        vertical-align: middle;\n",
              "    }\n",
              "\n",
              "    .dataframe tbody tr th {\n",
              "        vertical-align: top;\n",
              "    }\n",
              "\n",
              "    .dataframe thead th {\n",
              "        text-align: right;\n",
              "    }\n",
              "</style>\n",
              "<table border=\"1\" class=\"dataframe\">\n",
              "  <thead>\n",
              "    <tr style=\"text-align: right;\">\n",
              "      <th></th>\n",
              "      <th>0</th>\n",
              "    </tr>\n",
              "  </thead>\n",
              "  <tbody>\n",
              "    <tr>\n",
              "      <th>test_group</th>\n",
              "      <td>2</td>\n",
              "    </tr>\n",
              "    <tr>\n",
              "      <th>converted</th>\n",
              "      <td>2</td>\n",
              "    </tr>\n",
              "    <tr>\n",
              "      <th>most_ads_day</th>\n",
              "      <td>7</td>\n",
              "    </tr>\n",
              "    <tr>\n",
              "      <th>most_ads_hour</th>\n",
              "      <td>24</td>\n",
              "    </tr>\n",
              "  </tbody>\n",
              "</table>\n",
              "</div><br><label><b>dtype:</b> int64</label>"
            ]
          },
          "metadata": {},
          "execution_count": 10
        }
      ]
    },
    {
      "cell_type": "code",
      "source": [
        "## print the value of each categorical variable\n",
        "\n",
        "for i in ab_cat.columns:\n",
        "    print(i, \":\", ab_cat[i].unique())"
      ],
      "metadata": {
        "colab": {
          "base_uri": "https://localhost:8080/"
        },
        "id": "xIYCGFeDTYj-",
        "outputId": "9daf641e-7e5c-49df-af80-40f53f70d53a"
      },
      "execution_count": 11,
      "outputs": [
        {
          "output_type": "stream",
          "name": "stdout",
          "text": [
            "test_group : ['ad' 'psa']\n",
            "converted : [False  True]\n",
            "most_ads_day : ['Monday' 'Tuesday' 'Friday' 'Saturday' 'Wednesday' 'Sunday' 'Thursday']\n",
            "most_ads_hour : [20 22 18 10 14 13 19 11 12 16 21  3 23  4  8  0  2 15  1  6 17  7  9  5]\n"
          ]
        }
      ]
    },
    {
      "cell_type": "markdown",
      "source": [
        "According to the data dictionary, 'total ads' was the sole numeric variable, representing the total number of ads shown.  All other variables were treated as categorical.  Despite numerical representation, 'most ads hour' was treated as categorical, reflecting the hours of the day.  The 'converted' variable served as the target variable for analysis and was compared against all other variables to assess their influence on conversions."
      ],
      "metadata": {
        "id": "ygTkAiHKt5rW"
      }
    },
    {
      "cell_type": "markdown",
      "source": [
        "**Checking outliers**"
      ],
      "metadata": {
        "id": "qutsvPQEjxYb"
      }
    },
    {
      "cell_type": "code",
      "source": [],
      "metadata": {
        "id": "cSHWRxWlxoET"
      },
      "execution_count": 11,
      "outputs": []
    },
    {
      "cell_type": "code",
      "source": [
        "variable = \"total_ads\"\n",
        "\n",
        "plt.figure(figsize = (6,4))\n",
        "\n",
        "# histogram\n",
        "plt.subplot(2,1,1)\n",
        "sns.histplot(x = variable, data = ab_raw)\n",
        "plt.title(f\"Histogram = {variable}\")\n",
        "\n",
        "# boxplot\n",
        "plt.subplot(2,1,2)\n",
        "sns.boxplot(x = variable, data = ab_raw)\n",
        "plt.title(f\"Boxplot - {variable}\")\n",
        "\n",
        "plt.tight_layout()\n",
        "plt.show()"
      ],
      "metadata": {
        "colab": {
          "base_uri": "https://localhost:8080/",
          "height": 407
        },
        "id": "JQSWMKDSxnvp",
        "outputId": "d78c81ec-594d-462a-9cb0-0a9efbd3afe7"
      },
      "execution_count": 12,
      "outputs": [
        {
          "output_type": "display_data",
          "data": {
            "text/plain": [
              "<Figure size 600x400 with 2 Axes>"
            ],
            "image/png": "[encoded data removed]"
          },
          "metadata": {}
        }
      ]
    },
    {
      "cell_type": "markdown",
      "source": [
        "From the boxplot, the extreme outliers were observed."
      ],
      "metadata": {
        "id": "bPEti_ZxyBFI"
      }
    },
    {
      "cell_type": "code",
      "source": [
        "## calculate Q1 and Q3\n",
        "\n",
        "numeric_col = ab_raw[\"total_ads\"]\n",
        "q1 = numeric_col.quantile(0.25)\n",
        "q3 = numeric_col.quantile(0.75)\n",
        "\n",
        "## calculate IDR, outliers are any point beyond 1.5*IQR from Q1 and Q3\n",
        "IQR = q3 - q1\n",
        "upper_bound = q3+(1.5*IQR)\n",
        "lower_bound = q1-(1.5*IQR)\n",
        "\n",
        "outliers = ab_raw[(numeric_col < lower_bound) | (numeric_col > upper_bound)]\n",
        "n_outliers = len(outliers)\n",
        "n_records = len(ab_raw)\n",
        "outliers_pct = (n_outliers/n_records)*100\n",
        "\n",
        "print(f\"\\nTotal records: {n_records}\")\n",
        "print(f\"Total outliers: {n_outliers}\")\n",
        "print(f\"Percentage of outliers: {outliers_pct:.2f}%\")"
      ],
      "metadata": {
        "colab": {
          "base_uri": "https://localhost:8080/"
        },
        "id": "cTupfH_Dj0Hw",
        "outputId": "eb0a176d-5b5f-484f-d249-d24aa583da9a"
      },
      "execution_count": 13,
      "outputs": [
        {
          "output_type": "stream",
          "name": "stdout",
          "text": [
            "\n",
            "Total records: 588101\n",
            "Total outliers: 52057\n",
            "Percentage of outliers: 8.85%\n"
          ]
        }
      ]
    },
    {
      "cell_type": "markdown",
      "source": [
        "The percentage of outliers is more than 5% of total records. If we drop the entire outliers from the record, it might influence the result. Let investigate more whether we can drop the outliers or not."
      ],
      "metadata": {
        "id": "RohN7zpa1f9X"
      }
    },
    {
      "cell_type": "markdown",
      "source": [],
      "metadata": {
        "id": "Y9z4PfUy5oLP"
      }
    },
    {
      "cell_type": "code",
      "source": [
        "## outliers filter\n",
        "ab_no_outlier = ab_raw[~ab_raw.index.isin(outliers.index)]\n",
        "\n",
        "print(\"Descriptive Statistics excluding outliers\\n\")\n",
        "print(ab_no_outlier[\"total_ads\"].describe())\n",
        "\n",
        "print(\"\\nDescriptive Statistics including outliers\\n\")\n",
        "print(ab_raw[\"total_ads\"].describe())\n",
        "\n",
        "print(\"\\nDescriptive Statistics of outliers\\n\")\n",
        "print(outliers[\"total_ads\"].describe())"
      ],
      "metadata": {
        "colab": {
          "base_uri": "https://localhost:8080/"
        },
        "id": "WyjXgCFV5pGa",
        "outputId": "c91f6cc3-1e12-4a50-f138-b6cc382150e3"
      },
      "execution_count": 14,
      "outputs": [
        {
          "output_type": "stream",
          "name": "stdout",
          "text": [
            "Descriptive Statistics excluding outliers\n",
            "\n",
            "count    536044.000000\n",
            "mean         15.134015\n",
            "std          14.063618\n",
            "min           1.000000\n",
            "25%           4.000000\n",
            "50%          11.000000\n",
            "75%          22.000000\n",
            "max          61.000000\n",
            "Name: total_ads, dtype: float64\n",
            "\n",
            "Descriptive Statistics including outliers\n",
            "\n",
            "count    588101.000000\n",
            "mean         24.820876\n",
            "std          43.715181\n",
            "min           1.000000\n",
            "25%           4.000000\n",
            "50%          13.000000\n",
            "75%          27.000000\n",
            "max        2065.000000\n",
            "Name: total_ads, dtype: float64\n",
            "\n",
            "Descriptive Statistics of outliers\n",
            "\n",
            "count    52057.000000\n",
            "mean       124.568915\n",
            "std         92.934439\n",
            "min         62.000000\n",
            "25%         74.000000\n",
            "50%         94.000000\n",
            "75%        136.000000\n",
            "max       2065.000000\n",
            "Name: total_ads, dtype: float64\n"
          ]
        }
      ]
    },
    {
      "cell_type": "code",
      "source": [
        "## record with outliers conversion rate\n",
        "\n",
        "ab_raw.groupby(\"test_group\")[\"converted\"].value_counts(normalize= True).unstack()"
      ],
      "metadata": {
        "colab": {
          "base_uri": "https://localhost:8080/",
          "height": 143
        },
        "id": "8K53JgY_5o3l",
        "outputId": "3039894b-23ff-4d0c-b738-2580041b77f9"
      },
      "execution_count": 15,
      "outputs": [
        {
          "output_type": "execute_result",
          "data": {
            "text/plain": [
              "converted      False     True \n",
              "test_group                    \n",
              "ad          0.974453  0.025547\n",
              "psa         0.982146  0.017854"
            ],
            "text/html": [
              "\n",
              "  <div id=\"df-cc507304-161c-431f-ba14-415d6b1ac20c\" class=\"colab-df-container\">\n",
              "    <div>\n",
              "<style scoped>\n",
              "    .dataframe tbody tr th:only-of-type {\n",
              "        vertical-align: middle;\n",
              "    }\n",
              "\n",
              "    .dataframe tbody tr th {\n",
              "        vertical-align: top;\n",
              "    }\n",
              "\n",
              "    .dataframe thead th {\n",
              "        text-align: right;\n",
              "    }\n",
              "</style>\n",
              "<table border=\"1\" class=\"dataframe\">\n",
              "  <thead>\n",
              "    <tr style=\"text-align: right;\">\n",
              "      <th>converted</th>\n",
              "      <th>False</th>\n",
              "      <th>True</th>\n",
              "    </tr>\n",
              "    <tr>\n",
              "      <th>test_group</th>\n",
              "      <th></th>\n",
              "      <th></th>\n",
              "    </tr>\n",
              "  </thead>\n",
              "  <tbody>\n",
              "    <tr>\n",
              "      <th>ad</th>\n",
              "      <td>0.974453</td>\n",
              "      <td>0.025547</td>\n",
              "    </tr>\n",
              "    <tr>\n",
              "      <th>psa</th>\n",
              "      <td>0.982146</td>\n",
              "      <td>0.017854</td>\n",
              "    </tr>\n",
              "  </tbody>\n",
              "</table>\n",
              "</div>\n",
              "    <div class=\"colab-df-buttons\">\n",
              "\n",
              "  <div class=\"colab-df-container\">\n",
              "    <button class=\"colab-df-convert\" onclick=\"convertToInteractive('df-cc507304-161c-431f-ba14-415d6b1ac20c')\"\n",
              "            title=\"Convert this dataframe to an interactive table.\"\n",
              "            style=\"display:none;\">\n",
              "\n",
              "  <svg xmlns=\"http://www.w3.org/2000/svg\" height=\"24px\" viewBox=\"0 -960 960 960\">\n",
              "    <path d=\"M120-120v-720h720v720H120Zm60-500h600v-160H180v160Zm220 220h160v-160H400v160Zm0 220h160v-160H400v160ZM180-400h160v-160H180v160Zm440 0h160v-160H620v160ZM180-180h160v-160H180v160Zm440 0h160v-160H620v160Z\"/>\n",
              "  </svg>\n",
              "    </button>\n",
              "\n",
              "  <style>\n",
              "    .colab-df-container {\n",
              "      display:flex;\n",
              "      gap: 12px;\n",
              "    }\n",
              "\n",
              "    .colab-df-convert {\n",
              "      background-color: #E8F0FE;\n",
              "      border: none;\n",
              "      border-radius: 50%;\n",
              "      cursor: pointer;\n",
              "      display: none;\n",
              "      fill: #1967D2;\n",
              "      height: 32px;\n",
              "      padding: 0 0 0 0;\n",
              "      width: 32px;\n",
              "    }\n",
              "\n",
              "    .colab-df-convert:hover {\n",
              "      background-color: #E2EBFA;\n",
              "      box-shadow: 0px 1px 2px rgba(60, 64, 67, 0.3), 0px 1px 3px 1px rgba(60, 64, 67, 0.15);\n",
              "      fill: #174EA6;\n",
              "    }\n",
              "\n",
              "    .colab-df-buttons div {\n",
              "      margin-bottom: 4px;\n",
              "    }\n",
              "\n",
              "    [theme=dark] .colab-df-convert {\n",
              "      background-color: #3B4455;\n",
              "      fill: #D2E3FC;\n",
              "    }\n",
              "\n",
              "    [theme=dark] .colab-df-convert:hover {\n",
              "      background-color: #434B5C;\n",
              "      box-shadow: 0px 1px 3px 1px rgba(0, 0, 0, 0.15);\n",
              "      filter: drop-shadow(0px 1px 2px rgba(0, 0, 0, 0.3));\n",
              "      fill: #FFFFFF;\n",
              "    }\n",
              "  </style>\n",
              "\n",
              "    <script>\n",
              "      const buttonEl =\n",
              "        document.querySelector('#df-cc507304-161c-431f-ba14-415d6b1ac20c button.colab-df-convert');\n",
              "      buttonEl.style.display =\n",
              "        google.colab.kernel.accessAllowed ? 'block' : 'none';\n",
              "\n",
              "      async function convertToInteractive(key) {\n",
              "        const element = document.querySelector('#df-cc507304-161c-431f-ba14-415d6b1ac20c');\n",
              "        const dataTable =\n",
              "          await google.colab.kernel.invokeFunction('convertToInteractive',\n",
              "                                                    [key], {});\n",
              "        if (!dataTable) return;\n",
              "\n",
              "        const docLinkHtml = 'Like what you see? Visit the ' +\n",
              "          '<a target=\"_blank\" href=https://colab.research.google.com/notebooks/data_table.ipynb>data table notebook</a>'\n",
              "          + ' to learn more about interactive tables.';\n",
              "        element.innerHTML = '';\n",
              "        dataTable['output_type'] = 'display_data';\n",
              "        await google.colab.output.renderOutput(dataTable, element);\n",
              "        const docLink = document.createElement('div');\n",
              "        docLink.innerHTML = docLinkHtml;\n",
              "        element.appendChild(docLink);\n",
              "      }\n",
              "    </script>\n",
              "  </div>\n",
              "\n",
              "\n",
              "<div id=\"df-76da511a-9ba3-4cac-ba66-e0246b356f8b\">\n",
              "  <button class=\"colab-df-quickchart\" onclick=\"quickchart('df-76da511a-9ba3-4cac-ba66-e0246b356f8b')\"\n",
              "            title=\"Suggest charts\"\n",
              "            style=\"display:none;\">\n",
              "\n",
              "<svg xmlns=\"http://www.w3.org/2000/svg\" height=\"24px\"viewBox=\"0 0 24 24\"\n",
              "     width=\"24px\">\n",
              "    <g>\n",
              "        <path d=\"M19 3H5c-1.1 0-2 .9-2 2v14c0 1.1.9 2 2 2h14c1.1 0 2-.9 2-2V5c0-1.1-.9-2-2-2zM9 17H7v-7h2v7zm4 0h-2V7h2v10zm4 0h-2v-4h2v4z\"/>\n",
              "    </g>\n",
              "</svg>\n",
              "  </button>\n",
              "\n",
              "<style>\n",
              "  .colab-df-quickchart {\n",
              "      --bg-color: #E8F0FE;\n",
              "      --fill-color: #1967D2;\n",
              "      --hover-bg-color: #E2EBFA;\n",
              "      --hover-fill-color: #174EA6;\n",
              "      --disabled-fill-color: #AAA;\n",
              "      --disabled-bg-color: #DDD;\n",
              "  }\n",
              "\n",
              "  [theme=dark] .colab-df-quickchart {\n",
              "      --bg-color: #3B4455;\n",
              "      --fill-color: #D2E3FC;\n",
              "      --hover-bg-color: #434B5C;\n",
              "      --hover-fill-color: #FFFFFF;\n",
              "      --disabled-bg-color: #3B4455;\n",
              "      --disabled-fill-color: #666;\n",
              "  }\n",
              "\n",
              "  .colab-df-quickchart {\n",
              "    background-color: var(--bg-color);\n",
              "    border: none;\n",
              "    border-radius: 50%;\n",
              "    cursor: pointer;\n",
              "    display: none;\n",
              "    fill: var(--fill-color);\n",
              "    height: 32px;\n",
              "    padding: 0;\n",
              "    width: 32px;\n",
              "  }\n",
              "\n",
              "  .colab-df-quickchart:hover {\n",
              "    background-color: var(--hover-bg-color);\n",
              "    box-shadow: 0 1px 2px rgba(60, 64, 67, 0.3), 0 1px 3px 1px rgba(60, 64, 67, 0.15);\n",
              "    fill: var(--button-hover-fill-color);\n",
              "  }\n",
              "\n",
              "  .colab-df-quickchart-complete:disabled,\n",
              "  .colab-df-quickchart-complete:disabled:hover {\n",
              "    background-color: var(--disabled-bg-color);\n",
              "    fill: var(--disabled-fill-color);\n",
              "    box-shadow: none;\n",
              "  }\n",
              "\n",
              "  .colab-df-spinner {\n",
              "    border: 2px solid var(--fill-color);\n",
              "    border-color: transparent;\n",
              "    border-bottom-color: var(--fill-color);\n",
              "    animation:\n",
              "      spin 1s steps(1) infinite;\n",
              "  }\n",
              "\n",
              "  @keyframes spin {\n",
              "    0% {\n",
              "      border-color: transparent;\n",
              "      border-bottom-color: var(--fill-color);\n",
              "      border-left-color: var(--fill-color);\n",
              "    }\n",
              "    20% {\n",
              "      border-color: transparent;\n",
              "      border-left-color: var(--fill-color);\n",
              "      border-top-color: var(--fill-color);\n",
              "    }\n",
              "    30% {\n",
              "      border-color: transparent;\n",
              "      border-left-color: var(--fill-color);\n",
              "      border-top-color: var(--fill-color);\n",
              "      border-right-color: var(--fill-color);\n",
              "    }\n",
              "    40% {\n",
              "      border-color: transparent;\n",
              "      border-right-color: var(--fill-color);\n",
              "      border-top-color: var(--fill-color);\n",
              "    }\n",
              "    60% {\n",
              "      border-color: transparent;\n",
              "      border-right-color: var(--fill-color);\n",
              "    }\n",
              "    80% {\n",
              "      border-color: transparent;\n",
              "      border-right-color: var(--fill-color);\n",
              "      border-bottom-color: var(--fill-color);\n",
              "    }\n",
              "    90% {\n",
              "      border-color: transparent;\n",
              "      border-bottom-color: var(--fill-color);\n",
              "    }\n",
              "  }\n",
              "</style>\n",
              "\n",
              "  <script>\n",
              "    async function quickchart(key) {\n",
              "      const quickchartButtonEl =\n",
              "        document.querySelector('#' + key + ' button');\n",
              "      quickchartButtonEl.disabled = true;  // To prevent multiple clicks.\n",
              "      quickchartButtonEl.classList.add('colab-df-spinner');\n",
              "      try {\n",
              "        const charts = await google.colab.kernel.invokeFunction(\n",
              "            'suggestCharts', [key], {});\n",
              "      } catch (error) {\n",
              "        console.error('Error during call to suggestCharts:', error);\n",
              "      }\n",
              "      quickchartButtonEl.classList.remove('colab-df-spinner');\n",
              "      quickchartButtonEl.classList.add('colab-df-quickchart-complete');\n",
              "    }\n",
              "    (() => {\n",
              "      let quickchartButtonEl =\n",
              "        document.querySelector('#df-76da511a-9ba3-4cac-ba66-e0246b356f8b button');\n",
              "      quickchartButtonEl.style.display =\n",
              "        google.colab.kernel.accessAllowed ? 'block' : 'none';\n",
              "    })();\n",
              "  </script>\n",
              "</div>\n",
              "\n",
              "    </div>\n",
              "  </div>\n"
            ],
            "application/vnd.google.colaboratory.intrinsic+json": {
              "type": "dataframe",
              "summary": "{\n  \"name\": \"ab_raw\",\n  \"rows\": 2,\n  \"fields\": [\n    {\n      \"column\": \"test_group\",\n      \"properties\": {\n        \"dtype\": \"string\",\n        \"num_unique_values\": 2,\n        \"samples\": [\n          \"psa\",\n          \"ad\"\n        ],\n        \"semantic_type\": \"\",\n        \"description\": \"\"\n      }\n    },\n    {\n      \"column\": false,\n      \"properties\": {\n        \"dtype\": \"number\",\n        \"std\": 0.0054393858161657605,\n        \"min\": 0.9744534403633163,\n        \"max\": 0.9821458935555177,\n        \"num_unique_values\": 2,\n        \"samples\": [\n          0.9821458935555177,\n          0.9744534403633163\n        ],\n        \"semantic_type\": \"\",\n        \"description\": \"\"\n      }\n    },\n    {\n      \"column\": true,\n      \"properties\": {\n        \"dtype\": \"number\",\n        \"std\": 0.005439385816165797,\n        \"min\": 0.01785410644448223,\n        \"max\": 0.025546559636683747,\n        \"num_unique_values\": 2,\n        \"samples\": [\n          0.01785410644448223,\n          0.025546559636683747\n        ],\n        \"semantic_type\": \"\",\n        \"description\": \"\"\n      }\n    }\n  ]\n}"
            }
          },
          "metadata": {},
          "execution_count": 15
        }
      ]
    },
    {
      "cell_type": "code",
      "source": [
        "## record without outliers conversion rate\n",
        "\n",
        "ab_no_outlier.groupby(\"test_group\")[\"converted\"].value_counts(normalize = True).unstack()"
      ],
      "metadata": {
        "colab": {
          "base_uri": "https://localhost:8080/",
          "height": 143
        },
        "id": "rb-JmXqFj0mf",
        "outputId": "0c946139-a1e4-4fb9-8898-5015bee400c4"
      },
      "execution_count": 16,
      "outputs": [
        {
          "output_type": "execute_result",
          "data": {
            "text/plain": [
              "converted      False     True \n",
              "test_group                    \n",
              "ad          0.986616  0.013384\n",
              "psa         0.989404  0.010596"
            ],
            "text/html": [
              "\n",
              "  <div id=\"df-a747f3ea-6a66-4236-9ed3-511f9dff4647\" class=\"colab-df-container\">\n",
              "    <div>\n",
              "<style scoped>\n",
              "    .dataframe tbody tr th:only-of-type {\n",
              "        vertical-align: middle;\n",
              "    }\n",
              "\n",
              "    .dataframe tbody tr th {\n",
              "        vertical-align: top;\n",
              "    }\n",
              "\n",
              "    .dataframe thead th {\n",
              "        text-align: right;\n",
              "    }\n",
              "</style>\n",
              "<table border=\"1\" class=\"dataframe\">\n",
              "  <thead>\n",
              "    <tr style=\"text-align: right;\">\n",
              "      <th>converted</th>\n",
              "      <th>False</th>\n",
              "      <th>True</th>\n",
              "    </tr>\n",
              "    <tr>\n",
              "      <th>test_group</th>\n",
              "      <th></th>\n",
              "      <th></th>\n",
              "    </tr>\n",
              "  </thead>\n",
              "  <tbody>\n",
              "    <tr>\n",
              "      <th>ad</th>\n",
              "      <td>0.986616</td>\n",
              "      <td>0.013384</td>\n",
              "    </tr>\n",
              "    <tr>\n",
              "      <th>psa</th>\n",
              "      <td>0.989404</td>\n",
              "      <td>0.010596</td>\n",
              "    </tr>\n",
              "  </tbody>\n",
              "</table>\n",
              "</div>\n",
              "    <div class=\"colab-df-buttons\">\n",
              "\n",
              "  <div class=\"colab-df-container\">\n",
              "    <button class=\"colab-df-convert\" onclick=\"convertToInteractive('df-a747f3ea-6a66-4236-9ed3-511f9dff4647')\"\n",
              "            title=\"Convert this dataframe to an interactive table.\"\n",
              "            style=\"display:none;\">\n",
              "\n",
              "  <svg xmlns=\"http://www.w3.org/2000/svg\" height=\"24px\" viewBox=\"0 -960 960 960\">\n",
              "    <path d=\"M120-120v-720h720v720H120Zm60-500h600v-160H180v160Zm220 220h160v-160H400v160Zm0 220h160v-160H400v160ZM180-400h160v-160H180v160Zm440 0h160v-160H620v160ZM180-180h160v-160H180v160Zm440 0h160v-160H620v160Z\"/>\n",
              "  </svg>\n",
              "    </button>\n",
              "\n",
              "  <style>\n",
              "    .colab-df-container {\n",
              "      display:flex;\n",
              "      gap: 12px;\n",
              "    }\n",
              "\n",
              "    .colab-df-convert {\n",
              "      background-color: #E8F0FE;\n",
              "      border: none;\n",
              "      border-radius: 50%;\n",
              "      cursor: pointer;\n",
              "      display: none;\n",
              "      fill: #1967D2;\n",
              "      height: 32px;\n",
              "      padding: 0 0 0 0;\n",
              "      width: 32px;\n",
              "    }\n",
              "\n",
              "    .colab-df-convert:hover {\n",
              "      background-color: #E2EBFA;\n",
              "      box-shadow: 0px 1px 2px rgba(60, 64, 67, 0.3), 0px 1px 3px 1px rgba(60, 64, 67, 0.15);\n",
              "      fill: #174EA6;\n",
              "    }\n",
              "\n",
              "    .colab-df-buttons div {\n",
              "      margin-bottom: 4px;\n",
              "    }\n",
              "\n",
              "    [theme=dark] .colab-df-convert {\n",
              "      background-color: #3B4455;\n",
              "      fill: #D2E3FC;\n",
              "    }\n",
              "\n",
              "    [theme=dark] .colab-df-convert:hover {\n",
              "      background-color: #434B5C;\n",
              "      box-shadow: 0px 1px 3px 1px rgba(0, 0, 0, 0.15);\n",
              "      filter: drop-shadow(0px 1px 2px rgba(0, 0, 0, 0.3));\n",
              "      fill: #FFFFFF;\n",
              "    }\n",
              "  </style>\n",
              "\n",
              "    <script>\n",
              "      const buttonEl =\n",
              "        document.querySelector('#df-a747f3ea-6a66-4236-9ed3-511f9dff4647 button.colab-df-convert');\n",
              "      buttonEl.style.display =\n",
              "        google.colab.kernel.accessAllowed ? 'block' : 'none';\n",
              "\n",
              "      async function convertToInteractive(key) {\n",
              "        const element = document.querySelector('#df-a747f3ea-6a66-4236-9ed3-511f9dff4647');\n",
              "        const dataTable =\n",
              "          await google.colab.kernel.invokeFunction('convertToInteractive',\n",
              "                                                    [key], {});\n",
              "        if (!dataTable) return;\n",
              "\n",
              "        const docLinkHtml = 'Like what you see? Visit the ' +\n",
              "          '<a target=\"_blank\" href=https://colab.research.google.com/notebooks/data_table.ipynb>data table notebook</a>'\n",
              "          + ' to learn more about interactive tables.';\n",
              "        element.innerHTML = '';\n",
              "        dataTable['output_type'] = 'display_data';\n",
              "        await google.colab.output.renderOutput(dataTable, element);\n",
              "        const docLink = document.createElement('div');\n",
              "        docLink.innerHTML = docLinkHtml;\n",
              "        element.appendChild(docLink);\n",
              "      }\n",
              "    </script>\n",
              "  </div>\n",
              "\n",
              "\n",
              "<div id=\"df-9ef9f603-6318-4b15-8350-15eba2dd87f6\">\n",
              "  <button class=\"colab-df-quickchart\" onclick=\"quickchart('df-9ef9f603-6318-4b15-8350-15eba2dd87f6')\"\n",
              "            title=\"Suggest charts\"\n",
              "            style=\"display:none;\">\n",
              "\n",
              "<svg xmlns=\"http://www.w3.org/2000/svg\" height=\"24px\"viewBox=\"0 0 24 24\"\n",
              "     width=\"24px\">\n",
              "    <g>\n",
              "        <path d=\"M19 3H5c-1.1 0-2 .9-2 2v14c0 1.1.9 2 2 2h14c1.1 0 2-.9 2-2V5c0-1.1-.9-2-2-2zM9 17H7v-7h2v7zm4 0h-2V7h2v10zm4 0h-2v-4h2v4z\"/>\n",
              "    </g>\n",
              "</svg>\n",
              "  </button>\n",
              "\n",
              "<style>\n",
              "  .colab-df-quickchart {\n",
              "      --bg-color: #E8F0FE;\n",
              "      --fill-color: #1967D2;\n",
              "      --hover-bg-color: #E2EBFA;\n",
              "      --hover-fill-color: #174EA6;\n",
              "      --disabled-fill-color: #AAA;\n",
              "      --disabled-bg-color: #DDD;\n",
              "  }\n",
              "\n",
              "  [theme=dark] .colab-df-quickchart {\n",
              "      --bg-color: #3B4455;\n",
              "      --fill-color: #D2E3FC;\n",
              "      --hover-bg-color: #434B5C;\n",
              "      --hover-fill-color: #FFFFFF;\n",
              "      --disabled-bg-color: #3B4455;\n",
              "      --disabled-fill-color: #666;\n",
              "  }\n",
              "\n",
              "  .colab-df-quickchart {\n",
              "    background-color: var(--bg-color);\n",
              "    border: none;\n",
              "    border-radius: 50%;\n",
              "    cursor: pointer;\n",
              "    display: none;\n",
              "    fill: var(--fill-color);\n",
              "    height: 32px;\n",
              "    padding: 0;\n",
              "    width: 32px;\n",
              "  }\n",
              "\n",
              "  .colab-df-quickchart:hover {\n",
              "    background-color: var(--hover-bg-color);\n",
              "    box-shadow: 0 1px 2px rgba(60, 64, 67, 0.3), 0 1px 3px 1px rgba(60, 64, 67, 0.15);\n",
              "    fill: var(--button-hover-fill-color);\n",
              "  }\n",
              "\n",
              "  .colab-df-quickchart-complete:disabled,\n",
              "  .colab-df-quickchart-complete:disabled:hover {\n",
              "    background-color: var(--disabled-bg-color);\n",
              "    fill: var(--disabled-fill-color);\n",
              "    box-shadow: none;\n",
              "  }\n",
              "\n",
              "  .colab-df-spinner {\n",
              "    border: 2px solid var(--fill-color);\n",
              "    border-color: transparent;\n",
              "    border-bottom-color: var(--fill-color);\n",
              "    animation:\n",
              "      spin 1s steps(1) infinite;\n",
              "  }\n",
              "\n",
              "  @keyframes spin {\n",
              "    0% {\n",
              "      border-color: transparent;\n",
              "      border-bottom-color: var(--fill-color);\n",
              "      border-left-color: var(--fill-color);\n",
              "    }\n",
              "    20% {\n",
              "      border-color: transparent;\n",
              "      border-left-color: var(--fill-color);\n",
              "      border-top-color: var(--fill-color);\n",
              "    }\n",
              "    30% {\n",
              "      border-color: transparent;\n",
              "      border-left-color: var(--fill-color);\n",
              "      border-top-color: var(--fill-color);\n",
              "      border-right-color: var(--fill-color);\n",
              "    }\n",
              "    40% {\n",
              "      border-color: transparent;\n",
              "      border-right-color: var(--fill-color);\n",
              "      border-top-color: var(--fill-color);\n",
              "    }\n",
              "    60% {\n",
              "      border-color: transparent;\n",
              "      border-right-color: var(--fill-color);\n",
              "    }\n",
              "    80% {\n",
              "      border-color: transparent;\n",
              "      border-right-color: var(--fill-color);\n",
              "      border-bottom-color: var(--fill-color);\n",
              "    }\n",
              "    90% {\n",
              "      border-color: transparent;\n",
              "      border-bottom-color: var(--fill-color);\n",
              "    }\n",
              "  }\n",
              "</style>\n",
              "\n",
              "  <script>\n",
              "    async function quickchart(key) {\n",
              "      const quickchartButtonEl =\n",
              "        document.querySelector('#' + key + ' button');\n",
              "      quickchartButtonEl.disabled = true;  // To prevent multiple clicks.\n",
              "      quickchartButtonEl.classList.add('colab-df-spinner');\n",
              "      try {\n",
              "        const charts = await google.colab.kernel.invokeFunction(\n",
              "            'suggestCharts', [key], {});\n",
              "      } catch (error) {\n",
              "        console.error('Error during call to suggestCharts:', error);\n",
              "      }\n",
              "      quickchartButtonEl.classList.remove('colab-df-spinner');\n",
              "      quickchartButtonEl.classList.add('colab-df-quickchart-complete');\n",
              "    }\n",
              "    (() => {\n",
              "      let quickchartButtonEl =\n",
              "        document.querySelector('#df-9ef9f603-6318-4b15-8350-15eba2dd87f6 button');\n",
              "      quickchartButtonEl.style.display =\n",
              "        google.colab.kernel.accessAllowed ? 'block' : 'none';\n",
              "    })();\n",
              "  </script>\n",
              "</div>\n",
              "\n",
              "    </div>\n",
              "  </div>\n"
            ],
            "application/vnd.google.colaboratory.intrinsic+json": {
              "type": "dataframe",
              "summary": "{\n  \"name\": \"ab_no_outlier\",\n  \"rows\": 2,\n  \"fields\": [\n    {\n      \"column\": \"test_group\",\n      \"properties\": {\n        \"dtype\": \"string\",\n        \"num_unique_values\": 2,\n        \"samples\": [\n          \"psa\",\n          \"ad\"\n        ],\n        \"semantic_type\": \"\",\n        \"description\": \"\"\n      }\n    },\n    {\n      \"column\": false,\n      \"properties\": {\n        \"dtype\": \"number\",\n        \"std\": 0.001971187901721282,\n        \"min\": 0.986615920235625,\n        \"max\": 0.989403600900225,\n        \"num_unique_values\": 2,\n        \"samples\": [\n          0.989403600900225,\n          0.986615920235625\n        ],\n        \"semantic_type\": \"\",\n        \"description\": \"\"\n      }\n    },\n    {\n      \"column\": true,\n      \"properties\": {\n        \"dtype\": \"number\",\n        \"std\": 0.0019711879017212637,\n        \"min\": 0.010596399099774943,\n        \"max\": 0.013384079764374918,\n        \"num_unique_values\": 2,\n        \"samples\": [\n          0.010596399099774943,\n          0.013384079764374918\n        ],\n        \"semantic_type\": \"\",\n        \"description\": \"\"\n      }\n    }\n  ]\n}"
            }
          },
          "metadata": {},
          "execution_count": 16
        }
      ]
    },
    {
      "cell_type": "markdown",
      "source": [
        "About 8.8% of our data consists of outliers, which significantly affect the conversion rates we see. To get the most accurate results from our A/B test, we'll analyze the data in two ways: first **without these outliers**, and then **with outliers included**. Removing outliers might underestimate the true conversion rate if those users are genuinely valuable. However, keeping them in might overestimate the impact of our changes. We'll use statistical tests that don't assume the data is perfectly balanced, especially when outliers are included. In the end, we'll look at both the statistical results (like p-values) and the real-world business impact of any differences we find before making recommendations."
      ],
      "metadata": {
        "id": "2VCOsyy4Haug"
      }
    },
    {
      "cell_type": "markdown",
      "source": [
        "Testing Hypothesis without outliers"
      ],
      "metadata": {
        "id": "8Dbf59RJuhem"
      }
    },
    {
      "cell_type": "code",
      "source": [],
      "metadata": {
        "id": "gUt9Afg3Rl4Z"
      },
      "execution_count": 16,
      "outputs": []
    },
    {
      "cell_type": "code",
      "source": [
        "## remove an outliers\n",
        "\n",
        "ab_clean = ab_no_outlier.reset_index(drop=True)\n",
        "\n"
      ],
      "metadata": {
        "id": "fUlBAAN_j0jo"
      },
      "execution_count": 17,
      "outputs": []
    },
    {
      "cell_type": "code",
      "source": [
        "conv_rate = ab_clean.groupby(\"test_group\")[\"converted\"].mean()\n",
        "conv_rate"
      ],
      "metadata": {
        "colab": {
          "base_uri": "https://localhost:8080/",
          "height": 178
        },
        "id": "iHdW71JHRwMZ",
        "outputId": "6ca33a49-618b-4a34-b218-bd841bfdea88"
      },
      "execution_count": 18,
      "outputs": [
        {
          "output_type": "execute_result",
          "data": {
            "text/plain": [
              "test_group\n",
              "ad     0.013384\n",
              "psa    0.010596\n",
              "Name: converted, dtype: float64"
            ],
            "text/html": [
              "<div>\n",
              "<style scoped>\n",
              "    .dataframe tbody tr th:only-of-type {\n",
              "        vertical-align: middle;\n",
              "    }\n",
              "\n",
              "    .dataframe tbody tr th {\n",
              "        vertical-align: top;\n",
              "    }\n",
              "\n",
              "    .dataframe thead th {\n",
              "        text-align: right;\n",
              "    }\n",
              "</style>\n",
              "<table border=\"1\" class=\"dataframe\">\n",
              "  <thead>\n",
              "    <tr style=\"text-align: right;\">\n",
              "      <th></th>\n",
              "      <th>converted</th>\n",
              "    </tr>\n",
              "    <tr>\n",
              "      <th>test_group</th>\n",
              "      <th></th>\n",
              "    </tr>\n",
              "  </thead>\n",
              "  <tbody>\n",
              "    <tr>\n",
              "      <th>ad</th>\n",
              "      <td>0.013384</td>\n",
              "    </tr>\n",
              "    <tr>\n",
              "      <th>psa</th>\n",
              "      <td>0.010596</td>\n",
              "    </tr>\n",
              "  </tbody>\n",
              "</table>\n",
              "</div><br><label><b>dtype:</b> float64</label>"
            ]
          },
          "metadata": {},
          "execution_count": 18
        }
      ]
    },
    {
      "cell_type": "code",
      "source": [
        "## calculate conversion rate\n",
        "exp_conv_rate = conv_rate[0]\n",
        "control_conv_rate = conv_rate[1]\n",
        "abs_lift = exp_conv_rate - control_conv_rate\n",
        "rel_lift = abs_lift / control_conv_rate\n",
        "\n",
        "## calculate number of converted users\n",
        "exp_conv = ab_clean[ab_clean[\"test_group\"] == \"ad\"][\"converted\"].sum()\n",
        "control_conv = ab_clean[ab_clean[\"test_group\"] == \"psa\"][\"converted\"].sum()\n",
        "\n",
        "## calculate size\n",
        "exp_count = ab_clean.groupby(\"test_group\")[\"user_id\"].count()[0]\n",
        "control_count = ab_clean.groupby(\"test_group\")[\"user_id\"].count()[1]\n",
        "\n",
        "## check the sample size for z-test\n",
        "def check_z_test(n, p):\n",
        "    return (n*p >= 10) and (n*(1-p) >= 10)\n",
        "\n",
        "print(check_z_test(exp_count, exp_conv_rate) and check_z_test(control_count, control_conv_rate))\n",
        "\n",
        "print(f\"\\nExperimental group conversion rate: {exp_conv_rate:.2%}\")\n",
        "print(f\"Control group conversion rate: {control_conv_rate:.2%}\")\n",
        "\n",
        "print(f\"\\nAbsolute lift : {abs_lift:.2%}\")\n",
        "print(f\"Relative lift : {rel_lift:.2%}\")\n"
      ],
      "metadata": {
        "colab": {
          "base_uri": "https://localhost:8080/"
        },
        "id": "gr9Xc8XpUr48",
        "outputId": "1425f8fc-617f-41e4-e67c-97fc8e24c5c1"
      },
      "execution_count": 19,
      "outputs": [
        {
          "output_type": "stream",
          "name": "stdout",
          "text": [
            "True\n",
            "\n",
            "Experimental group conversion rate: 1.34%\n",
            "Control group conversion rate: 1.06%\n",
            "\n",
            "Absolute lift : 0.28%\n",
            "Relative lift : 26.31%\n"
          ]
        }
      ]
    },
    {
      "cell_type": "markdown",
      "source": [
        "Sample sizes are large enough for z-test\n",
        "\n",
        "The variables are independece\n",
        "\n"
      ],
      "metadata": {
        "id": "kFHoKPWXZ5I5"
      }
    },
    {
      "cell_type": "code",
      "source": [
        "## conduct Two-proportion z-test and calculate confidence interval\n",
        "\n",
        "alpha = 0.05\n",
        "\n",
        "def z_test_and_ci(x_exp, x_control, n_exp, n_control):\n",
        "\n",
        "    z, p_val = proportions_ztest([x_exp, x_control], [n_exp, n_control])\n",
        "\n",
        "\n",
        "    print(f\"Z-statistics: {z}\")\n",
        "    print(f\"p-value: {p_val}\\n\")\n",
        "\n",
        "    if p_val < alpha:\n",
        "        print(\"Reject the null hypothesis. The difference in conversion rates between control and experimental group is statistically significant.\")\n",
        "    else:\n",
        "        print(\"Fail to reject the null hypothesis. The difference in conversion rates between control and experimental  is not statistically significant.\")\n",
        "\n",
        "    ci = confint_proportions_2indep(x_exp, n_exp, x_control, n_control)\n",
        "\n",
        "    ci_rel = ci/(x_control/n_control)\n",
        "\n",
        "    print(f\"95% confidence interval for absolute lift: [{ci[0]:.2%},{ci[1]:.2%}]\")\n",
        "    print(f\"95% confidence interval for relative lift: [{ci_rel[0]:.2%},{ci_rel[1]:.2%}]\")"
      ],
      "metadata": {
        "id": "byrAsliZ_hyf"
      },
      "execution_count": 20,
      "outputs": []
    },
    {
      "cell_type": "code",
      "source": [
        "z_test_and_ci(exp_conv, control_conv, exp_count, control_count)"
      ],
      "metadata": {
        "colab": {
          "base_uri": "https://localhost:8080/"
        },
        "id": "Rx61iuCUUea3",
        "outputId": "33e6cba5-a489-4d72-fd6b-e1b57eb3a3d8"
      },
      "execution_count": 21,
      "outputs": [
        {
          "output_type": "stream",
          "name": "stdout",
          "text": [
            "Z-statistics: 3.4859086419622503\n",
            "p-value: 0.000490468476045044\n",
            "\n",
            "Reject the null hypothesis. The difference in conversion rates between control and experimental group is statistically significant.\n",
            "95% confidence interval for absolute lift: [0.13%,0.41%]\n",
            "95% confidence interval for relative lift: [12.18%,38.83%]\n"
          ]
        }
      ]
    },
    {
      "cell_type": "markdown",
      "source": [
        "Calculate the effect size"
      ],
      "metadata": {
        "id": "_k6-i2yLG1HO"
      }
    },
    {
      "cell_type": "code",
      "source": [
        "## calculate the effect size\n",
        "\n",
        "effect_size_cohens = 2*(np.arcsin(np.sqrt(exp_conv_rate))- np.arcsin(np.sqrt(control_conv_rate)))\n",
        "\n",
        "def effect_size_result(h):\n",
        "    if  abs(h) < 0.2:\n",
        "        return \"Small effect\"\n",
        "    elif abs(h) < 0.5:\n",
        "        return \"Medium effect\"\n",
        "    else:\n",
        "        return \"Large effect\"\n",
        "\n",
        "print(f\"Cohen's : {effect_size_cohens:.4f} ({effect_size_result(effect_size_cohens)})\")\n"
      ],
      "metadata": {
        "colab": {
          "base_uri": "https://localhost:8080/"
        },
        "id": "QU0WW8EUGuOg",
        "outputId": "cbb0f120-1c0e-4ee4-df11-b4e43b8f981c"
      },
      "execution_count": 22,
      "outputs": [
        {
          "output_type": "stream",
          "name": "stdout",
          "text": [
            "Cohen's : 0.0257 (Small effect)\n"
          ]
        }
      ]
    },
    {
      "cell_type": "markdown",
      "source": [
        "The A/B test results show a statistically significant increase in conversion rate for users who see the ads compared to those who do not.  This confirms our null hypothesis that there is a difference.  The 95% confidence interval for the actual lift is 0.13% - 0.41%.  However, Cohen's d indicates a small effect size (0.0257), suggesting that the practical impact of the ads on the conversion rate is minimal.\n",
        "\n",
        "Therefore, the decision to implement this campaign hinges on a cost-benefit analysis.  We need to determine if the projected increase in conversions, even as small as 0.13%, justifies the costs associated with running the ads."
      ],
      "metadata": {
        "id": "Dq5fSMNjlXGL"
      }
    },
    {
      "cell_type": "markdown",
      "source": [
        "### Testing hypothesis with outliers"
      ],
      "metadata": {
        "id": "WrSj1h39rqX_"
      }
    },
    {
      "cell_type": "code",
      "source": [],
      "metadata": {
        "id": "k4nWjmI0GuCc"
      },
      "execution_count": 22,
      "outputs": []
    },
    {
      "cell_type": "code",
      "source": [
        "conv_rate_raw = ab_raw.groupby(\"test_group\")[\"converted\"].mean()\n",
        "conv_rate_raw"
      ],
      "metadata": {
        "colab": {
          "base_uri": "https://localhost:8080/",
          "height": 178
        },
        "id": "oQJ5OV4Wrpi6",
        "outputId": "538bac4e-c4f4-4050-d1bb-dd641af7ce19"
      },
      "execution_count": 23,
      "outputs": [
        {
          "output_type": "execute_result",
          "data": {
            "text/plain": [
              "test_group\n",
              "ad     0.025547\n",
              "psa    0.017854\n",
              "Name: converted, dtype: float64"
            ],
            "text/html": [
              "<div>\n",
              "<style scoped>\n",
              "    .dataframe tbody tr th:only-of-type {\n",
              "        vertical-align: middle;\n",
              "    }\n",
              "\n",
              "    .dataframe tbody tr th {\n",
              "        vertical-align: top;\n",
              "    }\n",
              "\n",
              "    .dataframe thead th {\n",
              "        text-align: right;\n",
              "    }\n",
              "</style>\n",
              "<table border=\"1\" class=\"dataframe\">\n",
              "  <thead>\n",
              "    <tr style=\"text-align: right;\">\n",
              "      <th></th>\n",
              "      <th>converted</th>\n",
              "    </tr>\n",
              "    <tr>\n",
              "      <th>test_group</th>\n",
              "      <th></th>\n",
              "    </tr>\n",
              "  </thead>\n",
              "  <tbody>\n",
              "    <tr>\n",
              "      <th>ad</th>\n",
              "      <td>0.025547</td>\n",
              "    </tr>\n",
              "    <tr>\n",
              "      <th>psa</th>\n",
              "      <td>0.017854</td>\n",
              "    </tr>\n",
              "  </tbody>\n",
              "</table>\n",
              "</div><br><label><b>dtype:</b> float64</label>"
            ]
          },
          "metadata": {},
          "execution_count": 23
        }
      ]
    },
    {
      "cell_type": "code",
      "source": [
        "exp_raw_conv_rate = conv_rate_raw[0]\n",
        "control_raw_conv_rate = conv_rate_raw[1]\n",
        "abs_raw_lift = exp_raw_conv_rate - control_raw_conv_rate\n",
        "rel_raw_lift = abs_lift / control_raw_conv_rate\n",
        "\n",
        "## calculate number of converted users\n",
        "exp_raw_conv = ab_raw[ab_raw[\"test_group\"] == \"ad\"][\"converted\"].sum()\n",
        "control_raw_conv = ab_raw[ab_raw[\"test_group\"] == \"psa\"][\"converted\"].sum()\n",
        "\n",
        "## calculate size\n",
        "exp_raw_count = ab_raw.groupby(\"test_group\")[\"user_id\"].count()[0]\n",
        "control_raw_count = ab_raw.groupby(\"test_group\")[\"user_id\"].count()[1]\n",
        "\n",
        "## check the sample size for z-test\n",
        "\n",
        "print(check_z_test(exp_raw_count, exp_raw_conv_rate) and check_z_test(control_raw_count, control_raw_conv_rate))\n",
        "\n",
        "print(f\"\\nExperimental group conversion rate: {exp_raw_conv_rate:.2%}\")\n",
        "print(f\"Control group conversion rate: {control_raw_conv_rate:.2%}\")\n",
        "\n",
        "print(f\"\\nAbsolute lift : {abs_raw_lift:.2%}\")\n",
        "print(f\"Relative lift : {rel_raw_lift:.2%}\")\n"
      ],
      "metadata": {
        "colab": {
          "base_uri": "https://localhost:8080/"
        },
        "id": "c_HSkNJ-tdAw",
        "outputId": "0140260f-2965-4649-f1e6-19750b6be442"
      },
      "execution_count": 24,
      "outputs": [
        {
          "output_type": "stream",
          "name": "stdout",
          "text": [
            "True\n",
            "\n",
            "Experimental group conversion rate: 2.55%\n",
            "Control group conversion rate: 1.79%\n",
            "\n",
            "Absolute lift : 0.77%\n",
            "Relative lift : 15.61%\n"
          ]
        }
      ]
    },
    {
      "cell_type": "code",
      "source": [
        "## conduct a z-test\n",
        "\n",
        "z_test_and_ci(exp_raw_conv, control_raw_conv, exp_raw_count, control_raw_count)"
      ],
      "metadata": {
        "colab": {
          "base_uri": "https://localhost:8080/"
        },
        "id": "k7kJg3JFtc7-",
        "outputId": "a83b6f0b-8617-4823-f706-1a41f73e23da"
      },
      "execution_count": 25,
      "outputs": [
        {
          "output_type": "stream",
          "name": "stdout",
          "text": [
            "Z-statistics: 7.3700781265454145\n",
            "p-value: 1.7052807161559727e-13\n",
            "\n",
            "Reject the null hypothesis. The difference in conversion rates between control and experimental group is statistically significant.\n",
            "95% confidence interval for absolute lift: [0.59%,0.94%]\n",
            "95% confidence interval for relative lift: [32.90%,52.43%]\n"
          ]
        }
      ]
    },
    {
      "cell_type": "code",
      "source": [
        "## calculate the effect size\n",
        "\n",
        "raw_effect_size_cohens = 2*(np.arcsin(np.sqrt(exp_raw_conv_rate))- np.arcsin(np.sqrt(control_raw_conv_rate)))\n",
        "\n",
        "print(f\"Cohen's : {raw_effect_size_cohens:.4f} ({effect_size_result(raw_effect_size_cohens)})\")\n"
      ],
      "metadata": {
        "colab": {
          "base_uri": "https://localhost:8080/"
        },
        "id": "_G0Ni7_Ntc3b",
        "outputId": "f5c78c09-f5af-437b-ed1d-ac3ed9caebbc"
      },
      "execution_count": 26,
      "outputs": [
        {
          "output_type": "stream",
          "name": "stdout",
          "text": [
            "Cohen's : 0.0530 (Small effect)\n"
          ]
        }
      ]
    },
    {
      "cell_type": "markdown",
      "source": [
        "The A/B test results of the data with outliers result in the similar way, show a statistically significant increase in conversion rate for users who see the ads compared to those who do not.  This confirms our null hypothesis that there is a difference.  The 95% confidence interval for the actual lift is 0.59% - 0.94%.  However, Cohen's d indicates a small effect size (0.0530), suggesting that the practical impact of the ads on the conversion rate is minimal.\n"
      ],
      "metadata": {
        "id": "-lleeoz2xSbG"
      }
    },
    {
      "cell_type": "markdown",
      "source": [
        "|Feature\t|Test 1 (Outliers Removed)\t|Test 2 (Outliers Included)|\n",
        "|-----|-----|-----|\n",
        "|Statistical Significance\t|Significant\t|Significant|\n",
        "|Actual Lift (95% CI)|\t0.13% - 0.41%\t|0.59% - 0.94%|\n",
        "|Cohen's d\t|0.0257 (small)|\t0.0530 (small)|"
      ],
      "metadata": {
        "id": "xhMfTCJl2x_Y"
      }
    },
    {
      "cell_type": "code",
      "source": [
        "outliers[\"total_ads\"].describe()"
      ],
      "metadata": {
        "id": "aCQuKuf53l1c",
        "colab": {
          "base_uri": "https://localhost:8080/",
          "height": 335
        },
        "outputId": "64095fd7-42c1-4950-ff8f-9a76ed1be981"
      },
      "execution_count": 27,
      "outputs": [
        {
          "output_type": "execute_result",
          "data": {
            "text/plain": [
              "count    52057.000000\n",
              "mean       124.568915\n",
              "std         92.934439\n",
              "min         62.000000\n",
              "25%         74.000000\n",
              "50%         94.000000\n",
              "75%        136.000000\n",
              "max       2065.000000\n",
              "Name: total_ads, dtype: float64"
            ],
            "text/html": [
              "<div>\n",
              "<style scoped>\n",
              "    .dataframe tbody tr th:only-of-type {\n",
              "        vertical-align: middle;\n",
              "    }\n",
              "\n",
              "    .dataframe tbody tr th {\n",
              "        vertical-align: top;\n",
              "    }\n",
              "\n",
              "    .dataframe thead th {\n",
              "        text-align: right;\n",
              "    }\n",
              "</style>\n",
              "<table border=\"1\" class=\"dataframe\">\n",
              "  <thead>\n",
              "    <tr style=\"text-align: right;\">\n",
              "      <th></th>\n",
              "      <th>total_ads</th>\n",
              "    </tr>\n",
              "  </thead>\n",
              "  <tbody>\n",
              "    <tr>\n",
              "      <th>count</th>\n",
              "      <td>52057.000000</td>\n",
              "    </tr>\n",
              "    <tr>\n",
              "      <th>mean</th>\n",
              "      <td>124.568915</td>\n",
              "    </tr>\n",
              "    <tr>\n",
              "      <th>std</th>\n",
              "      <td>92.934439</td>\n",
              "    </tr>\n",
              "    <tr>\n",
              "      <th>min</th>\n",
              "      <td>62.000000</td>\n",
              "    </tr>\n",
              "    <tr>\n",
              "      <th>25%</th>\n",
              "      <td>74.000000</td>\n",
              "    </tr>\n",
              "    <tr>\n",
              "      <th>50%</th>\n",
              "      <td>94.000000</td>\n",
              "    </tr>\n",
              "    <tr>\n",
              "      <th>75%</th>\n",
              "      <td>136.000000</td>\n",
              "    </tr>\n",
              "    <tr>\n",
              "      <th>max</th>\n",
              "      <td>2065.000000</td>\n",
              "    </tr>\n",
              "  </tbody>\n",
              "</table>\n",
              "</div><br><label><b>dtype:</b> float64</label>"
            ]
          },
          "metadata": {},
          "execution_count": 27
        }
      ]
    },
    {
      "cell_type": "code",
      "source": [
        "ab_raw_desc = ab_raw[\"total_ads\"].agg([\"mean\",\"min\",\"max\"]).reset_index()"
      ],
      "metadata": {
        "id": "4EmLZp52Gu4Z"
      },
      "execution_count": 28,
      "outputs": []
    },
    {
      "cell_type": "markdown",
      "source": [],
      "metadata": {
        "id": "dT0hiMH67qy7"
      }
    },
    {
      "cell_type": "code",
      "source": [
        "##\n",
        "\n",
        "sns.histplot(ab_no_outlier[\"total_ads\"],alpha = 0.5, color = \"blue\")\n",
        "sns.histplot(outliers[\"total_ads\"],alpha= 0.5, color = \"red\")\n",
        "plt.xlabel(\"total_ads\")\n",
        "plt.ylabel(\"Frequency\")\n",
        "plt.show()"
      ],
      "metadata": {
        "id": "z_3MEMA8tcui",
        "colab": {
          "base_uri": "https://localhost:8080/",
          "height": 450
        },
        "outputId": "fb590a05-599f-4428-86d2-1cf38a5039d1"
      },
      "execution_count": 29,
      "outputs": [
        {
          "output_type": "display_data",
          "data": {
            "text/plain": [
              "<Figure size 640x480 with 1 Axes>"
            ],
            "image/png": "[encoded data removed]"
          },
          "metadata": {}
        }
      ]
    },
    {
      "cell_type": "code",
      "source": [
        "##\n",
        "\n",
        "fig, axes = plt.subplots(1,2, figsize=(6,4))\n",
        "\n",
        "sns.boxplot(data = ab_no_outlier, y = \"total_ads\", ax=axes[0])\n",
        "axes[0].set_title(\"Total ads seen (exclude outliers)\")\n",
        "\n",
        "sns.boxplot(data = outliers, y=\"total_ads\", ax = axes[1])\n",
        "axes[1].set_title(\"total ads seen (outliers group)\")\n",
        "\n",
        "plt.tight_layout()\n",
        "plt.show()"
      ],
      "metadata": {
        "colab": {
          "base_uri": "https://localhost:8080/",
          "height": 407
        },
        "id": "TrYIYHFEC5M2",
        "outputId": "3f87dde0-98be-48c8-c078-d3b189635078"
      },
      "execution_count": 30,
      "outputs": [
        {
          "output_type": "display_data",
          "data": {
            "text/plain": [
              "<Figure size 600x400 with 2 Axes>"
            ],
            "image/png": "[encoded data removed]"
          },
          "metadata": {}
        }
      ]
    },
    {
      "cell_type": "markdown",
      "source": [
        "Test conversion vs total ads"
      ],
      "metadata": {
        "id": "pqkY6p6JGu5V"
      }
    },
    {
      "cell_type": "code",
      "source": [
        "\n",
        "def summarize_numeric_column(dataframes, column_name):\n",
        "\n",
        "    if not dataframes:  # Check if the dictionary is empty\n",
        "        return pd.DataFrame()\n",
        "\n",
        "    summary_data = {}\n",
        "    for name, df in dataframes.items():\n",
        "        if not isinstance(df, pd.DataFrame): # Check if it is a dataframe\n",
        "            print(f\"Warning: Data associated with '{name}' is not a Pandas DataFrame. Skipping.\")\n",
        "            continue\n",
        "\n",
        "        if column_name not in df.columns:\n",
        "            print(f\"Warning: Column '{column_name}' not found in DataFrame '{name}'. Skipping.\")\n",
        "            continue\n",
        "\n",
        "        try:\n",
        "            summary_data[name] = {\n",
        "                'min': df[column_name].min(),\n",
        "                'mean': df[column_name].mean(),\n",
        "                'max': df[column_name].max()\n",
        "            }\n",
        "        except TypeError: # This handles cases where the column is not numeric.\n",
        "            print(f\"Warning: Column '{column_name}' in DataFrame '{name}' is not numeric. Skipping.\")\n",
        "            continue\n",
        "\n",
        "    if not summary_data: # If no valid data was found\n",
        "        return pd.DataFrame()\n",
        "\n",
        "    summary_df = pd.DataFrame.from_dict(summary_data, orient='index') # More efficient for this structure.\n",
        "    return summary_df.T"
      ],
      "metadata": {
        "id": "00qY_Uzslyfs"
      },
      "execution_count": 31,
      "outputs": []
    },
    {
      "cell_type": "code",
      "source": [
        "conv_outliers_rate = outliers.groupby(\"test_group\")[\"converted\"].mean()"
      ],
      "metadata": {
        "id": "NO2-uWA0xztM"
      },
      "execution_count": 32,
      "outputs": []
    },
    {
      "cell_type": "code",
      "source": [
        "\"\"\"\n",
        "ab_raw: conv_rate_raw\n",
        "ab_clean: conv_rate\n",
        "outliers: conv_outliers_rate\n",
        "\"\"\""
      ],
      "metadata": {
        "colab": {
          "base_uri": "https://localhost:8080/",
          "height": 36
        },
        "id": "at_6W0ijv0tU",
        "outputId": "3641b984-76d2-49f3-e307-255311067707"
      },
      "execution_count": 33,
      "outputs": [
        {
          "output_type": "execute_result",
          "data": {
            "text/plain": [
              "'\\nab_raw: conv_rate_raw\\nab_clean: conv_rate\\noutliers: conv_outliers_rate\\n'"
            ],
            "application/vnd.google.colaboratory.intrinsic+json": {
              "type": "string"
            }
          },
          "metadata": {},
          "execution_count": 33
        }
      ]
    },
    {
      "cell_type": "code",
      "source": [
        "\n",
        "\n",
        "conversion_table = {\n",
        "    'ads_group' : [conv_rate_raw[0], conv_rate[0], conv_outliers_rate[0]],\n",
        "    'psa_group' : [conv_rate_raw[1], conv_rate[1], conv_outliers_rate[1]],\n",
        "    'overall'   : [ab_raw[\"converted\"].mean(), ab_clean[\"converted\"].mean(), outliers[\"converted\"].mean()]\n",
        "}\n",
        "\n",
        "conversion_data = pd.DataFrame(conversion_table, index=[\"with outliers\", \"no outliers\", \"outliers group\"])\n",
        "\n",
        "\n",
        "conversion_agg = conversion_data.mul(100).T.round(2)"
      ],
      "metadata": {
        "id": "EFhmvCB2qeSE"
      },
      "execution_count": 34,
      "outputs": []
    },
    {
      "cell_type": "code",
      "source": [
        "dataframes = {'no outliers': ab_clean, 'with outliers': ab_raw, 'outliers group': outliers}\n",
        "\n",
        "\n",
        "summary_stats = summarize_numeric_column(dataframes, \"total_ads\")"
      ],
      "metadata": {
        "id": "BY01apDzl3GI"
      },
      "execution_count": 35,
      "outputs": []
    },
    {
      "cell_type": "code",
      "source": [
        "summary_desc = pd.concat([summary_stats, conversion_agg])\n",
        "\n",
        "print(summary_desc)"
      ],
      "metadata": {
        "colab": {
          "base_uri": "https://localhost:8080/"
        },
        "id": "DVBRlPt8iDrP",
        "outputId": "9f7155ba-56a2-4eef-deea-9ce8dd45ba6e"
      },
      "execution_count": 36,
      "outputs": [
        {
          "output_type": "stream",
          "name": "stdout",
          "text": [
            "           no outliers  with outliers  outliers group\n",
            "min           1.000000       1.000000       62.000000\n",
            "mean         15.134015      24.820876      124.568915\n",
            "max          61.000000    2065.000000     2065.000000\n",
            "ads_group     1.340000       2.550000       15.110000\n",
            "psa_group     1.060000       1.790000        8.830000\n",
            "overall       1.330000       2.520000       14.850000\n"
          ]
        }
      ]
    },
    {
      "cell_type": "markdown",
      "source": [
        "- The conversion rate for outliers (14.85%) is disproportionately high compared to the overall conversion rate (2.52%) and the rate without outliers (1.33%).\n",
        "- The overall average ads seen (24.82) is significantly higher than the average without outliers (15.13). This indicates that outliers heavily skew the data.\n",
        "- Outliers have an average of 124.57 ads seen, much higher than the overall average. Their behavior (high conversion rate and ad views) is fundamentally different from the majority of the data.  \n",
        "\n",
        "Analysis of the A/B test data revealed a significant influence of outliers on conversion rates.  Outliers exhibited a disproportionately high conversion rate of 14.85%, compared to the overall rate of 2.52% and the rate excluding outliers of just 1.33%.  This skewing effect is further evidenced by the average number of ads seen: outliers averaged 124.57 ads, dramatically higher than the overall average of 24.82 and the average excluding outliers of 15.13.  These findings suggest that outliers represent a distinct user segment with fundamentally different behavior.\n",
        "\n",
        "Although the A/B test showed the new campaign improved conversions even with outliers included, the outliers' huge impact on overall conversion rates needs further study.  Their unique behavior—whether from real users or anomalies  separate analysis and targeted strategies.  So, the following recommendations and analysis will focus on data without outliers to better understand typical user behavior."
      ],
      "metadata": {
        "id": "KE461s5Qk571"
      }
    },
    {
      "cell_type": "markdown",
      "source": [
        "###Conclusion\n",
        "The campaign is projected to increase revenue by 12.18% to 38.83%.  However, to fully evaluate the campaign's potential and provide actionable recommendations, I would request further information on revenue per conversion and implementation costs in order to perform cost-benefit analysis.  Understanding these factors will allow me to calculate the return on investment (ROI) and determine the campaign's true profitability.  My next steps will be to conduct this analysis upon receiving the necessary data.  Furthermore, exploring potential ads optimization strategies during implementation could further enhance the campaign's ROI."
      ],
      "metadata": {
        "id": "QYeaVIqntbK5"
      }
    },
    {
      "cell_type": "markdown",
      "source": [
        "### Additional Analysis"
      ],
      "metadata": {
        "id": "ab4qpQS5HEL-"
      }
    },
    {
      "cell_type": "markdown",
      "source": [
        "**Find the optimal ads exposure**"
      ],
      "metadata": {
        "id": "yBq31RuYo64N"
      }
    },
    {
      "cell_type": "code",
      "source": [
        "\n",
        "\n",
        "sns.boxplot(x = \"converted\", y=\"total_ads\", data=ab_clean)\n",
        "plt.show()"
      ],
      "metadata": {
        "id": "Yrbp91b-23pG",
        "colab": {
          "base_uri": "https://localhost:8080/",
          "height": 449
        },
        "outputId": "69aceaff-1cff-49ad-ee79-e0243f8b8de3"
      },
      "execution_count": 37,
      "outputs": [
        {
          "output_type": "display_data",
          "data": {
            "text/plain": [
              "<Figure size 640x480 with 1 Axes>"
            ],
            "image/png": "[encoded data removed]"
          },
          "metadata": {}
        }
      ]
    },
    {
      "cell_type": "code",
      "source": [
        "# Check assumption\n",
        "# normality assumption\n",
        "\n",
        "def normality_check(df, target_col, num_col):\n",
        "    shapiro_stat_t, shapiro_p_val_t = shapiro(df[df[target_col] == True][num_col])\n",
        "    shapiro_stat_f, shapiro_p_val_f = shapiro(df[df[target_col] == False][num_col])\n",
        "\n",
        "    print(f\"Shapiro-Wilk test for normality (True) : p-value is {shapiro_p_val_t}\" )\n",
        "    print(f\"Shapiro-Wilk test for normality (False) : p-value is {shapiro_p_val_f}\" )\n",
        "\n",
        "    # Equality of variances assumption\n",
        "    levene_stat, levene_p_value = levene(df[df[target_col] == True][num_col],df[df[target_col]== False][num_col] )\n",
        "    print(f\"Levene's test for equality of variances: p-value is {levene_p_value}\")\n",
        "\n",
        "    return shapiro_p_val_t, shapiro_p_val_f, levene_p_value\n",
        "\n",
        "numeric_rel_test = normality_check(ab_clean, \"converted\", \"total_ads\")\n"
      ],
      "metadata": {
        "colab": {
          "base_uri": "https://localhost:8080/"
        },
        "id": "d_u9oLGS9gGf",
        "outputId": "20ae95b8-65ec-4c69-908f-22fee86d8d83"
      },
      "execution_count": 38,
      "outputs": [
        {
          "output_type": "stream",
          "name": "stdout",
          "text": [
            "Shapiro-Wilk test for normality (True) : p-value is 2.1683994738154512e-40\n",
            "Shapiro-Wilk test for normality (False) : p-value is 6.613246646125758e-155\n",
            "Levene's test for equality of variances: p-value is 2.957180536335777e-265\n"
          ]
        }
      ]
    },
    {
      "cell_type": "markdown",
      "source": [
        "**Calcualte the p-value**"
      ],
      "metadata": {
        "id": "KMM58oTRDzSJ"
      }
    },
    {
      "cell_type": "code",
      "source": [
        "# Check for suitable test\n",
        "alpha = 0.05\n",
        "\n",
        "# zip value\n",
        "shapiro_p_val_t, shapiro_p_val_f, levene_p_value = numeric_rel_test\n",
        "\n",
        "\n",
        "if shapiro_p_val_t > alpha and shapiro_p_val_f > alpha and levene_p_value > alpha:\n",
        "    ## assumption met, parametric - use t-test for means\n",
        "    t_stat, t_p_val = ttest_ind(ab_raw[ab_raw[\"converted\"] == True][\"total_ads\"], ab_raw[ab_raw[\"converted\"] == False][\"total_ads\"])\n",
        "    print(f\"Independent two-sample t-test: p-value is {t_p_val}\\n\")\n",
        "\n",
        "    ## Null hypothesis result\n",
        "    if t_p_val < alpha:\n",
        "        print(\"There is a statistically significant relationship between the number of ads a user is exposed to and conversion rate (Reject the null hypothesis)\")\n",
        "    else:\n",
        "        print(\"There is no statistically significant relationship between the number of ads a user is exposed to and conversion rate (Fail to reject the null hypothesis)\")\n",
        "else:\n",
        "    ## assumptioin not met, non-parametric - use MWU test for median\n",
        "    u_stat, u_p_val = mannwhitneyu(ab_raw[ab_raw[\"converted\"] == True][\"total_ads\"], ab_raw[ab_raw[\"converted\"] == False][\"total_ads\"])\n",
        "    print(f\"Mann-Whitney U test: p-value is {u_p_val}\\n\")\n",
        "\n",
        "    ## Null hypothesis result\n",
        "    if u_p_val < alpha:\n",
        "        print(\"There is a statistically significant relationship between the number of ads a user is exposed to and conversion rate (Reject the null hypothesis)\")\n",
        "    else:\n",
        "        print(\"There is no statistically significant relationship between the number of ads a user is exposed to and conversion rate (Fail to reject the null hypothesis)\")\n",
        "\n"
      ],
      "metadata": {
        "colab": {
          "base_uri": "https://localhost:8080/"
        },
        "id": "anNEZp-GIP9C",
        "outputId": "265bc65d-d1fe-4064-ab35-7fcdd282bfd4"
      },
      "execution_count": 39,
      "outputs": [
        {
          "output_type": "stream",
          "name": "stdout",
          "text": [
            "Mann-Whitney U test: p-value is 0.0\n",
            "\n",
            "There is a statistically significant relationship between the number of ads a user is exposed to and conversion rate (Reject the null hypothesis)\n"
          ]
        }
      ]
    },
    {
      "cell_type": "markdown",
      "source": [
        "Find the optimal number of ads exposure"
      ],
      "metadata": {
        "id": "osTJpXegu4-I"
      }
    },
    {
      "cell_type": "code",
      "source": [
        "## split the data\n",
        "\n",
        "X_ads = ab_clean[ab_clean[\"test_group\"] == \"ad\"][[\"total_ads\"]]\n",
        "y_ads = ab_clean[ab_clean[\"test_group\"] == \"ad\"][\"converted\"]\n",
        "\n",
        "## Train_test_split\n",
        "\n",
        "X_train, X_test, y_train, y_test = train_test_split(X_ads, y_ads, test_size = 0.2, random_state = 42)\n",
        "\n",
        "## Fit logistic regression\n",
        "model = LogisticRegression()\n",
        "model.fit(X_train, y_train)\n",
        "\n",
        "y_pred = model.predict(X_test)\n",
        "\n",
        "print(\"Coefficient :\",model.coef_)\n",
        "print(\"Intercept :\", model.intercept_)\n"
      ],
      "metadata": {
        "colab": {
          "base_uri": "https://localhost:8080/"
        },
        "id": "LAmwNGV5Ueob",
        "outputId": "451fb292-6933-4266-d117-d2850ac6a9ef"
      },
      "execution_count": 40,
      "outputs": [
        {
          "output_type": "stream",
          "name": "stdout",
          "text": [
            "Coefficient : [[0.06379044]]\n",
            "Intercept : [-5.77952668]\n"
          ]
        }
      ]
    },
    {
      "cell_type": "code",
      "source": [
        "## Evaluation\n",
        "\n",
        "## Accuracy\n",
        "accuracy = accuracy_score(y_test, y_pred)\n",
        "print(f\"Accuracy: {accuracy:.2f}\")\n",
        "\n",
        "## ROC-AUC score\n",
        "y_prob = model.predict_proba(X_test)[:, 1]\n",
        "roc_auc = roc_auc_score(y_test, y_prob)\n",
        "print(f\"ROC-AUC score: {roc_auc}\")"
      ],
      "metadata": {
        "colab": {
          "base_uri": "https://localhost:8080/"
        },
        "id": "R_kfoLDaWaZa",
        "outputId": "4ff65e1b-9b11-4bdb-9a15-5e618fe254de"
      },
      "execution_count": 41,
      "outputs": [
        {
          "output_type": "stream",
          "name": "stdout",
          "text": [
            "Accuracy: 0.99\n",
            "ROC-AUC score: 0.7994280637245474\n"
          ]
        }
      ]
    },
    {
      "cell_type": "code",
      "source": [
        "## Find the optimal ads exposure\n",
        "\n",
        "# Step 1: Fit the logistic regression model\n",
        "def fit_logistic_regression(X_ads, y_ads):\n",
        "    \"\"\"\n",
        "    Fit a logistic regression model to predict conversion based on ad exposures.\n",
        "\n",
        "    Parameters:\n",
        "        X_ads: DataFrame containing 'total_ads' as the independent variable\n",
        "        y_ads: Series containing 'converted' (1/0) as the dependent variable\n",
        "\n",
        "    Returns:\n",
        "        fitted model and summary of model parameters\n",
        "    \"\"\"\n",
        "    # Create and fit the model\n",
        "    model = LogisticRegression(solver='liblinear')\n",
        "    model.fit(X_ads, y_ads)\n",
        "\n",
        "    # Extract model parameters\n",
        "    intercept = model.intercept_[0]\n",
        "    coefficient = model.coef_[0][0]\n",
        "\n",
        "    # Print model summary\n",
        "    print(\"Logistic Regression Model Summary:\")\n",
        "    print(f\"Intercept (β₀): {intercept:.4f}\")\n",
        "    print(f\"Coefficient for total_ads (β₁): {coefficient:.4f}\")\n",
        "\n",
        "    return model, intercept, coefficient\n",
        "\n",
        "# Step 2: Define functions to calculate conversion probability and marginal return\n",
        "def conversion_probability(x, intercept, coefficient):\n",
        "    \"\"\"Calculate the probability of conversion using the logistic function.\"\"\"\n",
        "    return 1 / (1 + np.exp(-(intercept + coefficient * x)))\n",
        "\n",
        "def marginal_return(x, intercept, coefficient):\n",
        "    \"\"\"Calculate the marginal return (derivative of the logistic function).\"\"\"\n",
        "    return coefficient * np.exp(intercept + coefficient * x) / (1 + np.exp(intercept + coefficient * x))**2\n",
        "\n",
        "# Step 3: Find the optimal number of ad exposures\n",
        "def find_optimal_exposure(intercept, coefficient, min_ads, max_ads):\n",
        "    \"\"\"\n",
        "    Find the optimal number of ad exposures.\n",
        "\n",
        "    For a logistic curve, the inflection point (where the curve changes from\n",
        "    accelerating to decelerating) is at -intercept/coefficient.\n",
        "    \"\"\"\n",
        "    # Mathematical solution for inflection point of logistic curve\n",
        "    optimal_ads = -intercept / coefficient\n",
        "\n",
        "    # Check if this is within our data range\n",
        "    if optimal_ads < min_ads:\n",
        "        print(f\"Note: Calculated optimal point ({optimal_ads:.2f}) is below minimum ads in data.\")\n",
        "        optimal_ads = min_ads\n",
        "    elif optimal_ads > max_ads:\n",
        "        print(f\"Note: Calculated optimal point ({optimal_ads:.2f}) is above maximum ads in data.\")\n",
        "        optimal_ads = max_ads\n",
        "\n",
        "    # Calculate values at optimal point\n",
        "    optimal_prob = conversion_probability(optimal_ads, intercept, coefficient)\n",
        "    optimal_marg_return = marginal_return(optimal_ads, intercept, coefficient)\n",
        "\n",
        "    print(\"\\nOptimal Ad Exposure Analysis:\")\n",
        "    print(f\"Optimal number of ads: {optimal_ads:.2f}\")\n",
        "    print(f\"Conversion probability at optimal point: {optimal_prob:.4f}\")\n",
        "    print(f\"Marginal return at optimal point: {optimal_marg_return:.4f}\")\n",
        "\n",
        "    return optimal_ads\n",
        "\n",
        "# Step 4: Create visualization of conversion probability and marginal returns\n",
        "def plot_ad_optimization(intercept, coefficient, min_ads, max_ads, optimal_ads):\n",
        "    \"\"\"\n",
        "    Create a visualization showing conversion probability,\n",
        "    marginal returns, and the optimal point.\n",
        "    \"\"\"\n",
        "    # Create a range of values to plot\n",
        "    # Extend the range to see the full curve behavior\n",
        "    extended_min = max(0, min_ads - 5)\n",
        "    extended_max = max_ads + 20\n",
        "    x_range = np.linspace(extended_min, extended_max, 1000)\n",
        "\n",
        "    # Calculate values for both curves\n",
        "    y_prob = [conversion_probability(x, intercept, coefficient) for x in x_range]\n",
        "    y_marginal = [marginal_return(x, intercept, coefficient) for x in x_range]\n",
        "\n",
        "    # Create plot with two y-axes\n",
        "    fig, ax1 = plt.subplots(figsize=(6, 4))\n",
        "\n",
        "    # Plot conversion probability\n",
        "    ax1.set_xlabel('Number of Ad Exposures', fontsize=12)\n",
        "    ax1.set_ylabel('Conversion Probability', color='blue', fontsize=12)\n",
        "    ax1.plot(x_range, y_prob, 'b-', linewidth=2, label='Conversion Probability')\n",
        "    ax1.tick_params(axis='y', labelcolor='blue')\n",
        "    ax1.grid(True, linestyle='--', alpha=0.6)\n",
        "\n",
        "    # Create second y-axis and plot marginal returns\n",
        "    ax2 = ax1.twinx()\n",
        "    ax2.set_ylabel('Marginal Return', color='red', fontsize=12)\n",
        "    ax2.plot(x_range, y_marginal, 'r-', linewidth=2, label='Marginal Return')\n",
        "    ax2.tick_params(axis='y', labelcolor='red')\n",
        "\n",
        "    # Mark the optimal point on both curves\n",
        "    opt_prob = conversion_probability(optimal_ads, intercept, coefficient)\n",
        "    opt_marginal = marginal_return(optimal_ads, intercept, coefficient)\n",
        "\n",
        "    ax1.plot(optimal_ads, opt_prob, 'bo', markersize=10)\n",
        "    ax2.plot(optimal_ads, opt_marginal, 'ro', markersize=10)\n",
        "\n",
        "    # Add vertical line at optimal point\n",
        "    plt.axvline(x=optimal_ads, linestyle='--', color='green', alpha=0.7)\n",
        "\n",
        "    # Add annotation for optimal point\n",
        "    plt.annotate(f'Optimal: {optimal_ads:.1f} ads',\n",
        "                xy=(optimal_ads, opt_prob),\n",
        "                xytext=(optimal_ads + 5, opt_prob + 0.05),\n",
        "                arrowprops=dict(facecolor='black', width=1, headwidth=7, alpha=0.7),\n",
        "                fontsize=12)\n",
        "\n",
        "    # Add title and legend\n",
        "    plt.title('Ad Exposure Optimization Analysis', fontsize=14)\n",
        "\n",
        "    # Create custom legend\n",
        "    lines1, labels1 = ax1.get_legend_handles_labels()\n",
        "    lines2, labels2 = ax2.get_legend_handles_labels()\n",
        "    ax1.legend(lines1 + lines2, labels1 + labels2, loc='upper center',\n",
        "              bbox_to_anchor=(0.5, -0.1), fancybox=True, shadow=True, ncol=2)\n",
        "\n",
        "    plt.tight_layout()\n",
        "    return fig\n",
        "\n",
        "# Step 5: Run the complete analysis\n",
        "def run_ad_optimization_analysis(X_ads, y_ads):\n",
        "    \"\"\"\n",
        "    Run the complete ad optimization analysis from data to visualization.\n",
        "    \"\"\"\n",
        "    # Step 1: Fit logistic regression model\n",
        "    model, intercept, coefficient = fit_logistic_regression(X_ads, y_ads)\n",
        "\n",
        "    # Get data range\n",
        "    min_ads = X_ads['total_ads'].min()\n",
        "    max_ads = X_ads['total_ads'].max()\n",
        "    mean_ads = X_ads['total_ads'].mean()\n",
        "\n",
        "    print(f\"\\nData Summary:\")\n",
        "    print(f\"Minimum ads: {min_ads}\")\n",
        "    print(f\"Maximum ads: {max_ads}\")\n",
        "    print(f\"Average ads: {mean_ads:.2f}\")\n",
        "\n",
        "    # Step 3: Find optimal number of ad exposures\n",
        "    optimal_ads = find_optimal_exposure(intercept, coefficient, min_ads, max_ads)\n",
        "\n",
        "    # Step 4: Create and display visualization\n",
        "    fig = plot_ad_optimization(intercept, coefficient, min_ads, max_ads, optimal_ads)\n",
        "\n",
        "    # Additional points for reference\n",
        "    print(\"\\nReference Points:\")\n",
        "    for ads in [5, 10, 20, 30, 40]:\n",
        "        if min_ads <= ads <= max_ads:\n",
        "            prob = conversion_probability(ads, intercept, coefficient)\n",
        "            marg = marginal_return(ads, intercept, coefficient)\n",
        "            print(f\"At {ads} ads: Probability = {prob:.4f}, Marginal Return = {marg:.4f}\")\n",
        "\n",
        "    plt.show()\n",
        "    return model, optimal_ads, fig\n",
        "\n",
        "# Run the analysis with your data\n",
        "model, optimal_ads, fig = run_ad_optimization_analysis(X_ads, y_ads)"
      ],
      "metadata": {
        "colab": {
          "base_uri": "https://localhost:8080/",
          "height": 785
        },
        "id": "mTVCNfKijEes",
        "outputId": "d94080a2-82cd-4ae6-ddfd-22649492662c"
      },
      "execution_count": 42,
      "outputs": [
        {
          "output_type": "stream",
          "name": "stdout",
          "text": [
            "Logistic Regression Model Summary:\n",
            "Intercept (β₀): -5.7836\n",
            "Coefficient for total_ads (β₁): 0.0639\n",
            "\n",
            "Data Summary:\n",
            "Minimum ads: 1\n",
            "Maximum ads: 61\n",
            "Average ads: 15.16\n",
            "Note: Calculated optimal point (90.46) is above maximum ads in data.\n",
            "\n",
            "Optimal Ad Exposure Analysis:\n",
            "Optimal number of ads: 61.00\n",
            "Conversion probability at optimal point: 0.1320\n",
            "Marginal return at optimal point: 0.0073\n",
            "\n",
            "Reference Points:\n",
            "At 5 ads: Probability = 0.0042, Marginal Return = 0.0003\n",
            "At 10 ads: Probability = 0.0058, Marginal Return = 0.0004\n",
            "At 20 ads: Probability = 0.0109, Marginal Return = 0.0007\n",
            "At 30 ads: Probability = 0.0205, Marginal Return = 0.0013\n",
            "At 40 ads: Probability = 0.0382, Marginal Return = 0.0023\n"
          ]
        },
        {
          "output_type": "display_data",
          "data": {
            "text/plain": [
              "<Figure size 600x400 with 2 Axes>"
            ],
            "image/png": "[encoded data removed]"
          },
          "metadata": {}
        }
      ]
    },
    {
      "cell_type": "markdown",
      "source": [
        "Based on our analysis of how ads affect customer conversion, I can share some straightforward insights:  \n",
        "\n",
        "\n",
        "1. More ads do lead to more conversions - There's a clear positive relationship between showing more ads and increasing the likelihood that someone will convert.\n",
        "2. We haven't reached our \"sweet spot\" yet - Our analysis shows that the ideal number of ads would be around 90, but we've only tested up to 61 ads per customer.\n",
        "3. We're still in the growth phase - Each additional ad we show is actually becoming MORE effective, not less effective. This is unusual and suggests we're still in the early part of the relationship curve.\n",
        "\n",
        "What This Means in Practice\n",
        "\n",
        "At 30 ads: About 2% conversion rate\n",
        "At 40 ads: About 3.8% conversion rate\n",
        "At 61 ads (our current maximum): About 13.2% conversion rate\n",
        "\n",
        "The numbers show that our conversion rate more than triples when we increase from 30 to 61 ads.\n",
        "Recommendations\n",
        "\n",
        "Test higher ad frequencies - Since we haven't reached the point of diminishing returns, we should experiment with showing more ads (perhaps up to 70-80) to see if conversions continue to climb significantly.\n",
        "Monitor customer experience - While more ads drive conversions, we should make sure we're not harming the customer experience or creating ad fatigue.\n",
        "Start with 40+ ads - Even if we can't go all the way to 61, increasing from our current average (15 ads) to 40 ads should substantially improve conversion rates.\n",
        "\n",
        "The data suggests we still have room to grow with our ad strategy before efficiency starts to decline."
      ],
      "metadata": {
        "id": "szIH-kohoFRg"
      }
    },
    {
      "cell_type": "markdown",
      "source": [],
      "metadata": {
        "id": "uxknlGsMrX7Z"
      }
    },
    {
      "cell_type": "markdown",
      "source": [
        "Univariate Analysis"
      ],
      "metadata": {
        "id": "yagU80h1VY1U"
      }
    },
    {
      "cell_type": "code",
      "source": [
        "\n",
        "plt.figure(figsize = (6,4))\n",
        "\n",
        "# count plot\n",
        "plt.subplot(1,2,1)\n",
        "sns.countplot(x = \"converted\", data = ab_clean)\n",
        "plt.title(f\"Number of converted vs non-convert\")\n",
        "\n",
        "# pie chart\n",
        "plt.subplot(1,2,2)\n",
        "counts = ab_clean[\"converted\"].value_counts()\n",
        "plt.pie(counts, labels=counts.index, autopct = \"%0.2f%%\")\n",
        "\n",
        "\n",
        "plt.tight_layout()\n",
        "plt.show()"
      ],
      "metadata": {
        "colab": {
          "base_uri": "https://localhost:8080/",
          "height": 407
        },
        "id": "EP3wtyjrVW9L",
        "outputId": "8c04e3e8-f129-4159-bc2f-1b6f1f8c3dd2"
      },
      "execution_count": 57,
      "outputs": [
        {
          "output_type": "display_data",
          "data": {
            "text/plain": [
              "<Figure size 600x400 with 2 Axes>"
            ],
            "image/png": "[encoded data removed]"
          },
          "metadata": {}
        }
      ]
    },
    {
      "cell_type": "markdown",
      "source": [
        "The overall conversion rate is 1.33%"
      ],
      "metadata": {
        "id": "QMOVxGVtjjY6"
      }
    },
    {
      "cell_type": "code",
      "source": [
        "\n",
        "\n",
        "plt.figure(figsize = (6,4))\n",
        "\n",
        "# count plot\n",
        "ax = sns.countplot(x = \"most_ads_day\", data = ab_clean, order = ab_clean[\"most_ads_day\"].value_counts().index)\n",
        "plt.title(f\"% Contribution of ads exposure on each day\")\n",
        "plt.xlabel(\"Day of week\")\n",
        "plt.ylabel(\"\")\n",
        "plt.xticks(rotation = 90)\n",
        "\n",
        "# Add percentage annotations\n",
        "total = len(ab_clean[\"most_ads_day\"])\n",
        "for p in ax.patches:\n",
        "    percentage = '{:.1f}%'.format(100 * p.get_height() / total)\n",
        "    x = p.get_x() + p.get_width() / 2.\n",
        "    y = p.get_y() + p.get_height()\n",
        "    ax.annotate(percentage, (x, y), ha='center', va='bottom')\n",
        "\n",
        "plt.tight_layout()\n",
        "plt.show()"
      ],
      "metadata": {
        "colab": {
          "base_uri": "https://localhost:8080/",
          "height": 407
        },
        "id": "sZRX2_4oVW7z",
        "outputId": "70560bf0-474c-4e4f-b1e3-c77adbbedae1"
      },
      "execution_count": 62,
      "outputs": [
        {
          "output_type": "display_data",
          "data": {
            "text/plain": [
              "<Figure size 600x400 with 1 Axes>"
            ],
            "image/png": "[encoded data removed]"
          },
          "metadata": {}
        }
      ]
    },
    {
      "cell_type": "markdown",
      "source": [
        "The distribution is relatively even across the days, with Friday being the day most users (15.75%) saw the most ads.\n",
        "\n",
        "\n"
      ],
      "metadata": {
        "id": "uInolCVjGTtZ"
      }
    },
    {
      "cell_type": "markdown",
      "source": [],
      "metadata": {
        "id": "oGCZEJJdZOwH"
      }
    },
    {
      "cell_type": "code",
      "source": [
        "\n",
        "\n",
        "variable = \"most_ads_hour\"\n",
        "\n",
        "plt.figure(figsize=(15, 8))  # Adjusted figure size for two subplots\n",
        "\n",
        "# Subplot 1: Ads hour rank by desc order\n",
        "plt.subplot(2, 1, 1)\n",
        "ax1 = sns.countplot(x=variable, data=ab_clean, order=ab_clean[\"most_ads_hour\"].value_counts().index, palette=\"crest_r\")\n",
        "plt.title(f\"% Contribution of ads exposure by hour in descending order\")\n",
        "plt.xticks(rotation=45)\n",
        "\n",
        "# Add percentage annotations for subplot 1\n",
        "total = len(ab_clean[variable])\n",
        "for p in ax1.patches:\n",
        "    percentage = '{:.1f}%'.format(100 * p.get_height() / total)\n",
        "    x = p.get_x() + p.get_width() / 2\n",
        "    y = p.get_y() + p.get_height()\n",
        "    ax1.annotate(percentage, (x, y), ha='center', va='bottom')\n",
        "\n",
        "# Subplot 2: Ads hour rank by hour\n",
        "plt.subplot(2, 1, 2)\n",
        "ax2 = sns.countplot(x=variable, data=ab_clean, palette=\"crest_r\")\n",
        "plt.title(\"% Contribution of ads exposure by hour\")\n",
        "plt.xticks(rotation=45)\n",
        "\n",
        "# Add percentage annotations for subplot 2\n",
        "total = len(ab_clean[variable])\n",
        "for p in ax2.patches:\n",
        "    percentage = '{:.1f}%'.format(100 * p.get_height() / total)\n",
        "    x = p.get_x() + p.get_width() / 2\n",
        "    y = p.get_y() + p.get_height()\n",
        "    ax2.annotate(percentage, (x, y), ha='center', va='bottom')\n",
        "\n",
        "plt.tight_layout()\n",
        "plt.show()"
      ],
      "metadata": {
        "colab": {
          "base_uri": "https://localhost:8080/",
          "height": 767
        },
        "id": "cJSWWdhnwmCo",
        "outputId": "b04a8731-6e8a-4261-9617-f8ebfe642370"
      },
      "execution_count": 63,
      "outputs": [
        {
          "output_type": "display_data",
          "data": {
            "text/plain": [
              "<Figure size 1500x800 with 2 Axes>"
            ],
            "image/png": "[encoded data removed]"
          },
          "metadata": {}
        }
      ]
    },
    {
      "cell_type": "markdown",
      "source": [
        "Users have more parcipitation with ads during 11-15."
      ],
      "metadata": {
        "id": "cS3M4yXSnFE4"
      }
    },
    {
      "cell_type": "markdown",
      "source": [
        "**Bivariate Analysis**"
      ],
      "metadata": {
        "id": "Itvr4EYvlfJN"
      }
    },
    {
      "cell_type": "code",
      "source": [
        "## compare test group to converted\n",
        "\n",
        "conv_rate_test_group = pd.crosstab(ab_clean[\"test_group\"], ab_clean[\"converted\"], normalize = \"index\")\n",
        "print(conv_rate_test_group)"
      ],
      "metadata": {
        "id": "oKmO6oqtVWqG",
        "colab": {
          "base_uri": "https://localhost:8080/"
        },
        "outputId": "f8f4a67e-1404-4911-e633-ad318b811b20"
      },
      "execution_count": 46,
      "outputs": [
        {
          "output_type": "stream",
          "name": "stdout",
          "text": [
            "converted      False     True \n",
            "test_group                    \n",
            "ad          0.986616  0.013384\n",
            "psa         0.989404  0.010596\n"
          ]
        }
      ]
    },
    {
      "cell_type": "code",
      "source": [
        "## plot columns chart\n",
        "\n",
        "conv_rate_test_group.plot.bar(stacked = True)"
      ],
      "metadata": {
        "id": "yhZOExCsbrJg",
        "colab": {
          "base_uri": "https://localhost:8080/",
          "height": 478
        },
        "outputId": "e9e50bf1-07df-4878-9353-3e80473b2a7a"
      },
      "execution_count": 47,
      "outputs": [
        {
          "output_type": "execute_result",
          "data": {
            "text/plain": [
              "<Axes: xlabel='test_group'>"
            ]
          },
          "metadata": {},
          "execution_count": 47
        },
        {
          "output_type": "display_data",
          "data": {
            "text/plain": [
              "<Figure size 640x480 with 1 Axes>"
            ],
            "image/png": "[encoded data removed]"
          },
          "metadata": {}
        }
      ]
    },
    {
      "cell_type": "markdown",
      "source": [
        "1.3 % of people who see ads have converted  \n",
        "1.05 % of people who see psa have converted"
      ],
      "metadata": {
        "id": "XHm25fUSmKEn"
      }
    },
    {
      "cell_type": "code",
      "source": [
        "overall_conv_rate = ab_clean[\"converted\"].mean()*100\n",
        "print(overall_conv_rate)"
      ],
      "metadata": {
        "colab": {
          "base_uri": "https://localhost:8080/"
        },
        "id": "4GojLxf9daLH",
        "outputId": "701e399d-8f86-4a5b-f25d-14bf337452a2"
      },
      "execution_count": 48,
      "outputs": [
        {
          "output_type": "stream",
          "name": "stdout",
          "text": [
            "1.3273164143241973\n"
          ]
        }
      ]
    },
    {
      "cell_type": "markdown",
      "source": [
        "**Statistical Test**"
      ],
      "metadata": {
        "id": "5lbYrAFHooN_"
      }
    },
    {
      "cell_type": "code",
      "source": [
        "alpha = 0.05\n",
        "\n",
        "for var in ab_cat.columns:\n",
        "    if var != \"converted\":\n",
        "        # create a contingency table\n",
        "        contingency_table = pd.crosstab(ab_cat[var], ab_cat[\"converted\"])\n",
        "\n",
        "        # perform chi2 test\n",
        "        chi2, p, _, _ = chi2_contingency(contingency_table) #ignore dof and frequency\n",
        "\n",
        "        # result\n",
        "        print(f\"\\nChi-squared test for {var} vs. converted:\")\n",
        "        print(f\"Chi-square value: {chi2}\")\n",
        "        print(f\"p-value: {p}\")\n",
        "\n",
        "        # significance test\n",
        "        if p < alpha:\n",
        "            print(f\"There is a significance difference in conversion rate across {var}.\")\n",
        "        else:\n",
        "            print(f\"There is no difference in conversion rate across {var}\")\n",
        "\n"
      ],
      "metadata": {
        "colab": {
          "base_uri": "https://localhost:8080/"
        },
        "id": "05FgzF38pEmv",
        "outputId": "9bd5461e-18d2-4fa7-9fec-c5c4b5cfdb32"
      },
      "execution_count": 55,
      "outputs": [
        {
          "output_type": "stream",
          "name": "stdout",
          "text": [
            "\n",
            "Chi-squared test for test_group vs. converted:\n",
            "Chi-square value: 54.005823883685245\n",
            "p-value: 1.9989623063390075e-13\n",
            "There is a significance difference in conversion rate across test_group.\n",
            "\n",
            "Chi-squared test for most_ads_day vs. converted:\n",
            "Chi-square value: 410.0478857936585\n",
            "p-value: 1.932184379244731e-85\n",
            "There is a significance difference in conversion rate across most_ads_day.\n",
            "\n",
            "Chi-squared test for most_ads_hour vs. converted:\n",
            "Chi-square value: 430.76869230822086\n",
            "p-value: 8.027629823696771e-77\n",
            "There is a significance difference in conversion rate across most_ads_hour.\n"
          ]
        }
      ]
    },
    {
      "cell_type": "markdown",
      "source": [
        "**Conversion vs. Day of week**"
      ],
      "metadata": {
        "id": "wVShStxbn2Yx"
      }
    },
    {
      "cell_type": "code",
      "source": [
        "\n",
        "\n",
        "# Calculate conversion rates\n",
        "conv_rate_ads_day = pd.crosstab(ab_clean[\"most_ads_day\"], ab_clean[\"converted\"], normalize='index').mul(100)\n",
        "conv_rate_ads_day_srt = conv_rate_ads_day.sort_values(by= True, ascending=False)\n",
        "print(conv_rate_ads_day_srt)\n",
        "\n",
        "# Melt the DataFrame for seaborn\n",
        "melted_data = conv_rate_ads_day.melt(value_name='Percentage', ignore_index=False)\n",
        "melted_data.index.name = 'most_ads_day'\n",
        "melted_data.reset_index(inplace=True)\n",
        "\n",
        "\n",
        "plt.figure(figsize=(10, 6))\n",
        "ax = sns.barplot(x='most_ads_day', y='Percentage', data=melted_data[melted_data[\"converted\"] == True], palette='crest', order= conv_rate_ads_day_srt.index)\n",
        "plt.title('Conversion Rate by Day')\n",
        "plt.ylabel('Conversion Rate (%)')\n",
        "\n",
        "plt.xticks(rotation=45)\n",
        "ax.axhline(y=overall_conv_rate, linestyle='--', alpha=0.7, color='red', label=f'Avg. Conv. Rate: {overall_conv_rate:.2f}%')\n",
        "\n",
        "# Add percentage annotations\n",
        "for p in ax.patches:\n",
        "    width, height = p.get_width(), p.get_height()\n",
        "    x, y = p.get_xy()\n",
        "    if height > 0:  # Only label non-zero values\n",
        "        ax.annotate(f'{height:.2f}%', (x + width/2, y + height/2), ha='center', va='bottom')\n",
        "\n",
        "plt.legend()\n",
        "plt.tight_layout()\n",
        "plt.show()"
      ],
      "metadata": {
        "id": "diTGf0jAbrFD",
        "colab": {
          "base_uri": "https://localhost:8080/",
          "height": 770
        },
        "outputId": "0214a62b-7c3e-48e1-da1f-49854ed7480e"
      },
      "execution_count": 49,
      "outputs": [
        {
          "output_type": "stream",
          "name": "stdout",
          "text": [
            "converted         False     True \n",
            "most_ads_day                     \n",
            "Monday        98.270062  1.729938\n",
            "Tuesday       98.442592  1.557408\n",
            "Sunday        98.688983  1.311017\n",
            "Wednesday     98.704473  1.295527\n",
            "Friday        98.818549  1.181451\n",
            "Thursday      98.847157  1.152843\n",
            "Saturday      98.928154  1.071846\n"
          ]
        },
        {
          "output_type": "display_data",
          "data": {
            "text/plain": [
              "<Figure size 1000x600 with 1 Axes>"
            ],
            "image/png": "[encoded data removed]"
          },
          "metadata": {}
        }
      ]
    },
    {
      "cell_type": "markdown",
      "source": [
        "Mondays and Tuesdays are the most effective days for conversions, showing significantly higher conversion rates than the weekly average.  In contrast, Sundays and Wednesdays closely mirror the average conversion rate, indicating these days are less impactful for driving conversions. This suggests that focusing our efforts on Mondays and Tuesdays could yield the highest return on investment"
      ],
      "metadata": {
        "id": "JRdMEvThe1oE"
      }
    },
    {
      "cell_type": "markdown",
      "source": [
        "**Coversion vs. Hour of the day**"
      ],
      "metadata": {
        "id": "hcJah9L_oFrQ"
      }
    },
    {
      "cell_type": "code",
      "source": [
        "## compare ads hour to converted\n",
        "\n",
        "conv_rate_ads_hour = pd.crosstab(ab_clean[\"most_ads_hour\"], ab_clean[\"converted\"], normalize = \"index\").mul(100)\n",
        "print(conv_rate_ads_hour.sort_values(by = True, ascending= False))"
      ],
      "metadata": {
        "id": "JnxhLPanbrAv",
        "colab": {
          "base_uri": "https://localhost:8080/"
        },
        "outputId": "1525b377-0a14-402b-c2cd-89b34770ad1c"
      },
      "execution_count": 50,
      "outputs": [
        {
          "output_type": "stream",
          "name": "stdout",
          "text": [
            "converted          False     True \n",
            "most_ads_hour                     \n",
            "16             98.355794  1.644206\n",
            "20             98.394099  1.605901\n",
            "22             98.473408  1.526592\n",
            "17             98.487784  1.512216\n",
            "21             98.494210  1.505790\n",
            "15             98.503906  1.496094\n",
            "14             98.540303  1.459697\n",
            "18             98.589438  1.410562\n",
            "19             98.622519  1.377481\n",
            "23             98.679115  1.320885\n",
            "6              98.731118  1.268882\n",
            "13             98.740886  1.259114\n",
            "12             98.747322  1.252678\n",
            "0              98.877511  1.122489\n",
            "10             98.892356  1.107644\n",
            "11             98.894634  1.105366\n",
            "7              98.925886  1.074114\n",
            "9              98.980021  1.019979\n",
            "5              99.027553  0.972447\n",
            "4              99.038462  0.961538\n",
            "8              99.054154  0.945846\n",
            "1              99.262673  0.737327\n",
            "3              99.393204  0.606796\n",
            "2              99.552208  0.447792\n"
          ]
        }
      ]
    },
    {
      "cell_type": "code",
      "source": [
        "hour_conv_rate = ab_clean.groupby(\"most_ads_hour\")[\"converted\"].mean()\n",
        "overall_hour_conv_rate = hour_conv_rate.mean()*100\n",
        "print(overall_hour_conv_rate)\n",
        "\n",
        "hourly_conv = ab_clean.groupby('most_ads_hour').agg({'converted': 'mean'}).round(3).reset_index()"
      ],
      "metadata": {
        "colab": {
          "base_uri": "https://localhost:8080/"
        },
        "id": "_2oQUiLLm6LZ",
        "outputId": "a6cea864-f3e0-4193-f3ca-7adf180cbc54"
      },
      "execution_count": 51,
      "outputs": [
        {
          "output_type": "stream",
          "name": "stdout",
          "text": [
            "1.1975597836885186\n"
          ]
        }
      ]
    },
    {
      "cell_type": "code",
      "source": [
        "\n",
        "\n",
        "# Calculate conversion rates\n",
        "conv_rate_ads_hour = pd.crosstab(ab_clean[\"most_ads_hour\"], ab_clean[\"converted\"], normalize='index').mul(100)\n",
        "\n",
        "# set 5 n largest\n",
        "\n",
        "top_5_hours = hourly_conv.nlargest(5, 'converted')['most_ads_hour']\n",
        "colors_5n = [\"#002569\" if x in top_5_hours.values else \"#abc5f5\" for x in hourly_conv['most_ads_hour']]\n",
        "\n",
        "\n",
        "# Melt the DataFrame for seaborn\n",
        "hour_data = conv_rate_ads_hour.melt(value_name='Percentage', ignore_index=False)\n",
        "hour_data.index.name = 'most_ads_hour'\n",
        "hour_data.reset_index(inplace=True)\n",
        "\n",
        "\n",
        "plt.figure(figsize=(10, 6))\n",
        "ax = sns.barplot(x='most_ads_hour', y='Percentage', data=hour_data[hour_data[\"converted\"] == True],palette=colors_5n)\n",
        "plt.title('Hourly Conversion Rate by Ad Exposure')\n",
        "plt.ylabel('Conversion Rate (%)')\n",
        "\n",
        "plt.xticks(rotation=45)\n",
        "ax.axhline(y=overall_hour_conv_rate, linestyle='--', alpha=0.7, color='red', label=f'Avg. Conv. Rate: {overall_hour_conv_rate:.2f}%')\n",
        "\n",
        "# Add percentage annotations\n",
        "'''for p in ax.patches:\n",
        "    width, height = p.get_width(), p.get_height()\n",
        "    x, y = p.get_xy()\n",
        "    if height > 0:  # Only label non-zero values\n",
        "        ax.annotate(f'{height:.2f}%', (x + width/2, y + height/2), ha='center', va='bottom', rotation = 90)'''\n",
        "\n",
        "\n",
        "plt.legend(loc = \"upper left\")\n",
        "plt.tight_layout()\n",
        "plt.show()"
      ],
      "metadata": {
        "colab": {
          "base_uri": "https://localhost:8080/",
          "height": 607
        },
        "id": "2hI8O148hE-n",
        "outputId": "a330d85e-6a61-4f53-a4c4-f16ea09969a8"
      },
      "execution_count": 52,
      "outputs": [
        {
          "output_type": "display_data",
          "data": {
            "text/plain": [
              "<Figure size 1000x600 with 1 Axes>"
            ],
            "image/png": "[encoded data removed]"
          },
          "metadata": {}
        }
      ]
    },
    {
      "cell_type": "markdown",
      "source": [
        "We see the most conversions in the afternoon and evening (2 PM to 9 PM), peaking at 4 PM with a 1.6% rate, which is higher than our average. Early mornings (1 AM to 4 AM) are the worst, especially 2 AM with only 0.45%.  Interestingly, we also see a smaller spike around 6 AM.  People likely convert more during leisure time. To get the best results, focus ad spending between 2 PM and 9 PM, cut back in early mornings, and keep some ads running around 6 AM."
      ],
      "metadata": {
        "id": "lZzoC6Hcp02b"
      }
    },
    {
      "cell_type": "markdown",
      "source": [
        "**Hourly conversion rate on Monday and Tuesday by hour of the day**"
      ],
      "metadata": {
        "id": "pYxYMa6ThEQf"
      }
    },
    {
      "cell_type": "code",
      "source": [
        "conv_rate_by_day_hour = ab_clean.groupby([\"most_ads_day\", \"most_ads_hour\"]).agg({\"converted\" : \"mean\"}).reset_index()\n",
        "conv_rate_by_day_hour[\"converted\"] = conv_rate_by_day_hour[\"converted\"]*100\n",
        "\n",
        "'''\n",
        "print(ab_clean.head(),\"\\n\")\n",
        "print(conv_rate_by_day_hour.head())\n",
        "print(hour_data.head()) '''"
      ],
      "metadata": {
        "colab": {
          "base_uri": "https://localhost:8080/",
          "height": 36
        },
        "id": "kK9Xe7plJCuo",
        "outputId": "7fdf9fa8-717f-4179-a605-ed399719876d"
      },
      "execution_count": 53,
      "outputs": [
        {
          "output_type": "execute_result",
          "data": {
            "text/plain": [
              "'\\nprint(ab_clean.head(),\"\\n\")\\nprint(conv_rate_by_day_hour.head())\\nprint(hour_data.head()) '"
            ],
            "application/vnd.google.colaboratory.intrinsic+json": {
              "type": "string"
            }
          },
          "metadata": {},
          "execution_count": 53
        }
      ]
    },
    {
      "cell_type": "code",
      "source": [
        "\n",
        "\n",
        "def plot_conversion_rate(data, day, ax):\n",
        "    \"\"\"Plots the conversion rate by hour for a given day.\"\"\"\n",
        "    sns.barplot(data=data[data[\"most_ads_day\"] == day], x=\"most_ads_hour\", y=\"converted\", ax=ax, color = \"#002569\" )\n",
        "    ax.axhline(y=overall_hour_conv_rate, linestyle='--', alpha=0.7, color='red', label=f'Avg. Conv. Rate: {overall_hour_conv_rate:.2f}%')\n",
        "    ax.legend(loc=\"upper left\")\n",
        "    ax.set_ylabel(\"Conversion Rate(%)\")\n",
        "    ax.set_title(f\"Hourly Conversion rate to Ad Exposure on {day}\")\n",
        "    ax.tick_params(axis='x', rotation=45)\n",
        "\n",
        "plt.figure(figsize=(12, 8))\n",
        "\n",
        "# Monday plot\n",
        "ax1 = plt.subplot(2, 1, 1)\n",
        "plot_conversion_rate(conv_rate_by_day_hour, \"Monday\", ax1)\n",
        "\n",
        "# Tuesday plot\n",
        "ax2 = plt.subplot(2, 1, 2)\n",
        "plot_conversion_rate(conv_rate_by_day_hour, \"Tuesday\", ax2)\n",
        "\n",
        "plt.tight_layout()\n",
        "plt.show()"
      ],
      "metadata": {
        "colab": {
          "base_uri": "https://localhost:8080/",
          "height": 807
        },
        "id": "Js7YMwt1y767",
        "outputId": "940f7024-c3de-4f41-c2d9-1be0e17c33de"
      },
      "execution_count": 54,
      "outputs": [
        {
          "output_type": "display_data",
          "data": {
            "text/plain": [
              "<Figure size 1200x800 with 2 Axes>"
            ],
            "image/png": "[encoded data removed]"
          },
          "metadata": {}
        }
      ]
    },
    {
      "cell_type": "markdown",
      "source": [
        "Monday and Tuesday show similar conversion patterns, with higher rates in the afternoon and evening (1 PM to 11 PM).  Monday has a big spike at 6 AM (over 3%), much higher than our 1.2% average.  Tuesday performs better late at night (9 PM to 11 PM).  The Monday 6 AM spike might be from people seeing ads during their morning routine, making quicker decisions before work.  To get more conversions, spend more ad money on Monday mornings and evenings on both days."
      ],
      "metadata": {
        "id": "U8y7aERiWCda"
      }
    },
    {
      "cell_type": "code",
      "source": [],
      "metadata": {
        "id": "0wevwLkKpEeF"
      },
      "execution_count": 55,
      "outputs": []
    },
    {
      "cell_type": "code",
      "source": [],
      "metadata": {
        "id": "qjZg9dmSpEbZ"
      },
      "execution_count": 55,
      "outputs": []
    }
  ]
}